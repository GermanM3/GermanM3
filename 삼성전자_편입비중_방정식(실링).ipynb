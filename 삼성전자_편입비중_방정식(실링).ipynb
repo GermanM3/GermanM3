{
  "nbformat": 4,
  "nbformat_minor": 0,
  "metadata": {
    "colab": {
      "provenance": [],
      "authorship_tag": "ABX9TyNliatPEkpoekfr+twSMB8I",
      "include_colab_link": true
    },
    "kernelspec": {
      "name": "python3",
      "display_name": "Python 3"
    },
    "language_info": {
      "name": "python"
    }
  },
  "cells": [
    {
      "cell_type": "markdown",
      "metadata": {
        "id": "view-in-github",
        "colab_type": "text"
      },
      "source": [
        "<a href=\"https://colab.research.google.com/github/GermanM3/GermanM3/blob/master/%EC%82%BC%EC%84%B1%EC%A0%84%EC%9E%90_%ED%8E%B8%EC%9E%85%EB%B9%84%EC%A4%91_%EB%B0%A9%EC%A0%95%EC%8B%9D(%EC%8B%A4%EB%A7%81).ipynb\" target=\"_parent\"><img src=\"https://colab.research.google.com/assets/colab-badge.svg\" alt=\"Open In Colab\"/></a>"
      ]
    },
    {
      "cell_type": "code",
      "execution_count": 10,
      "metadata": {
        "colab": {
          "base_uri": "https://localhost:8080/"
        },
        "id": "FJiK_f-cZ4aM",
        "outputId": "9c557eea-76c4-4dcf-b784-4af9b73d6389"
      },
      "outputs": [
        {
          "output_type": "stream",
          "name": "stdout",
          "text": [
            "3713690054\n"
          ]
        }
      ],
      "source": [
        "from sympy import symbols, Eq, solve\n",
        "from math import floor\n",
        "\n",
        "# 피가로 스마트\n",
        "x = symbols('x')\n",
        "price = 56200\n",
        "target_weight = 0.1708\n",
        "\n",
        "# 엑셀에서 복사 붙여넣은 문자열 숫자\n",
        "old_smart_total_mktcap_str = \"1270428007787590\"\n",
        "old_smart_samsung_mktcap_str = \"257185509082000\"\n",
        "\n",
        "# 쉼표 제거 후 int 변환\n",
        "old_smart_total_mktcap = int(old_smart_total_mktcap_str.replace(',', ''))\n",
        "old_smart_samsung_mktcap = int(old_smart_samsung_mktcap_str.replace(',', ''))\n",
        "\n",
        "# 방정식 정의\n",
        "numerator = price * x\n",
        "denominator = old_smart_total_mktcap - old_smart_samsung_mktcap + price * x\n",
        "\n",
        "eq = Eq(numerator / denominator, target_weight)\n",
        "\n",
        "# 방정식 풀이 (심볼릭)\n",
        "solution = solve(eq, x)[0]\n",
        "\n",
        "# 소수점 버림 정수 결과\n",
        "solution_int = floor(solution.evalf())\n",
        "print(solution_int)\n",
        "\n"
      ]
    },
    {
      "cell_type": "code",
      "source": [
        "# MKF웰스토탈\n",
        "y = symbols('y')\n",
        "price = 56200\n",
        "target_weight = 0.1708\n",
        "\n",
        "# 엑셀에서 복사 붙여넣은 문자열 숫자\n",
        "old_mkftotal_mktcap_str = \"1337234182234660\"\n",
        "old_mkfsamsung_mktcap_str = \"266434426089400\"\n",
        "\n",
        "# 쉼표 제거 후 int 변환\n",
        "old_mkftotal_mktcap = int(old_mkftotal_mktcap_str.replace(',', ''))\n",
        "old_mkfsamsung_mktcap = int(old_mkfsamsung_mktcap_str.replace(',', ''))\n",
        "\n",
        "# 방정식 정의\n",
        "numerator = price * y\n",
        "denominator = old_mkftotal_mktcap - old_mkfsamsung_mktcap + price * y\n",
        "\n",
        "eq = Eq(numerator / denominator, target_weight)\n",
        "\n",
        "# 방정식 풀이 (심볼릭)\n",
        "solution = solve(eq, y)[0]\n",
        "\n",
        "# 소수점 버림 정수 결과\n",
        "solution_int = floor(solution.evalf())\n",
        "print(solution_int)"
      ],
      "metadata": {
        "colab": {
          "base_uri": "https://localhost:8080/"
        },
        "id": "SzCMMP0jaUez",
        "outputId": "2c53315f-5043-4dbf-f361-670a2f772cb7"
      },
      "execution_count": 9,
      "outputs": [
        {
          "output_type": "stream",
          "name": "stdout",
          "text": [
            "3924646281\n"
          ]
        }
      ]
    },
    {
      "cell_type": "code",
      "source": [],
      "metadata": {
        "id": "tozUWtE1cPNr"
      },
      "execution_count": null,
      "outputs": []
    }
  ]
}