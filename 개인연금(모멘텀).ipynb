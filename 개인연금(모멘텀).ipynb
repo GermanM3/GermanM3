{
  "nbformat": 4,
  "nbformat_minor": 0,
  "metadata": {
    "colab": {
      "provenance": [],
      "authorship_tag": "ABX9TyP8vXlTx/jm48NfisTx/ogK",
      "include_colab_link": true
    },
    "kernelspec": {
      "name": "python3",
      "display_name": "Python 3"
    },
    "language_info": {
      "name": "python"
    }
  },
  "cells": [
    {
      "cell_type": "markdown",
      "metadata": {
        "id": "view-in-github",
        "colab_type": "text"
      },
      "source": [
        "<a href=\"https://colab.research.google.com/github/GermanM3/GermanM3/blob/master/%EA%B0%9C%EC%9D%B8%EC%97%B0%EA%B8%88(%EB%AA%A8%EB%A9%98%ED%85%80).ipynb\" target=\"_parent\"><img src=\"https://colab.research.google.com/assets/colab-badge.svg\" alt=\"Open In Colab\"/></a>"
      ]
    },
    {
      "cell_type": "code",
      "execution_count": null,
      "metadata": {
        "id": "TSA9j8tMRsxN"
      },
      "outputs": [],
      "source": [
        "pip install finance-datareader"
      ]
    },
    {
      "cell_type": "code",
      "source": [
        "import pandas as pd\n",
        "import FinanceDataReader as fdr\n",
        "import re\n",
        "import numpy as np\n",
        "import datetime\n",
        "import matplotlib.pyplot as plt\n",
        "import warnings\n",
        "warnings.filterwarnings('ignore')"
      ],
      "metadata": {
        "id": "ONSqdPj8Rt5j"
      },
      "execution_count": 2,
      "outputs": []
    },
    {
      "cell_type": "code",
      "source": [
        "etfs = fdr.StockListing('ETF/KR')\n",
        "rep_etfs = etfs[etfs['Name'].str.contains(\"TIGER\", case=False)]\n"
      ],
      "metadata": {
        "id": "aEpUwrbyRu5V"
      },
      "execution_count": 3,
      "outputs": []
    },
    {
      "cell_type": "code",
      "source": [
        "import concurrent.futures\n",
        "\n",
        "# ==============================\n",
        "# 1. 기본 설정\n",
        "# ==============================\n",
        "# symbols = rep_etfs['Symbol'].tolist() # 대표 ETF 리스트\n",
        "start_date = (datetime.datetime.today() - pd.DateOffset(months=9)).strftime('%Y-%m-%d')\n",
        "\n",
        "# end_date를 오늘 날짜까지 설정하여 최대한 많은 데이터를 일단 가져옵니다.\n",
        "# (10월 1일에 실행하면 10월 1일 데이터까지 포함)\n",
        "end_date = datetime.datetime.today().strftime('%Y-%m-%d')\n",
        "\n",
        "# ==============================\n",
        "# 2. 데이터 조회 함수 (불완전한 현재 월 데이터 제거 로직 추가)\n",
        "# ==============================\n",
        "def fetch_monthly_data(sym, start, end):\n",
        "    try:\n",
        "        df = fdr.DataReader(sym, start=start, end=end)[['Open', 'Close']]\n",
        "\n",
        "        # 💡 핵심 수정 로직: 불완전한 현재 월 데이터를 제거\n",
        "        # 오늘 날짜 (마지막 인덱스)가 월초일 경우, 그 행을 제거하여 직전 월까지의 데이터만 남깁니다.\n",
        "        # (10/1에 조회 시 10/1 데이터를 제거하여 9/30까지의 데이터만 남김)\n",
        "\n",
        "        # 마지막 거래일의 월과 오늘 날짜의 월이 같다면, 마지막 행을 제거 (불완전한 현재 월 데이터)\n",
        "        if df.index[-1].month == datetime.datetime.now().month and len(df) > 1:\n",
        "             df = df.iloc[:-1]\n",
        "\n",
        "        # 리샘플링 (마지막으로 제거되지 않은 날짜가 지난 달의 월말 종가임)\n",
        "        df_monthly = pd.DataFrame({\n",
        "            f'{sym}_Open': df['Open'].resample('MS').first(),\n",
        "            f'{sym}_Close': df['Close'].resample('ME').last()\n",
        "        })\n",
        "\n",
        "        # 만약 df의 마지막 날짜가 9/30이고 today가 10/1이라면, 9월 월말 종가가 잘 계산됩니다.\n",
        "        return df_monthly\n",
        "\n",
        "    except Exception as e:\n",
        "        print(f\"{sym} 조회 실패: {e}\")\n",
        "        return None\n",
        "\n",
        "# ==============================\n",
        "# 3. 병렬 처리\n",
        "# ==============================\n",
        "all_data_list = []\n",
        "\n",
        "max_workers = 8  # CPU 코어 수나 네트워크 상황에 맞게 조절\n",
        "with concurrent.futures.ThreadPoolExecutor(max_workers=max_workers) as executor:\n",
        "    futures = {executor.submit(fetch_monthly_data, sym, start_date, end_date): sym for sym in symbols}\n",
        "    for future in concurrent.futures.as_completed(futures):\n",
        "        result = future.result()\n",
        "        if result is not None:\n",
        "            all_data_list.append(result)"
      ],
      "metadata": {
        "id": "eeCeloP8RwEB"
      },
      "execution_count": null,
      "outputs": []
    },
    {
      "cell_type": "code",
      "source": [
        "all_data_list"
      ],
      "metadata": {
        "id": "vaRPA-Z6brPQ"
      },
      "execution_count": null,
      "outputs": []
    },
    {
      "cell_type": "code",
      "source": [
        "monthly_merged = pd.concat(all_data_list, axis=1)\n",
        "\n",
        "# 월초 시가 / 월말 종가 분리\n",
        "monthly_open = monthly_merged.filter(like='_Open').rename(columns=lambda x: x.replace('_Open',''))\n",
        "monthly_close = monthly_merged.filter(like='_Close').rename(columns=lambda x: x.replace('_Close',''))\n",
        "\n",
        "# 인덱스 변환 및 검증\n",
        "monthly_open.index = pd.to_datetime(monthly_open.index, errors='coerce')\n",
        "monthly_close.index = pd.to_datetime(monthly_close.index, errors='coerce')\n",
        "assert monthly_open.index.equals(monthly_close.index), \"Index mismatch between open and close\"\n",
        "# Combine monthly_open and monthly_close into monthly_price using combine\n",
        "# We'll use the first non-NaN value at each position.\n",
        "monthly_price = monthly_open.combine_first(monthly_close)"
      ],
      "metadata": {
        "id": "8ZY4VSBflNEq"
      },
      "execution_count": 25,
      "outputs": []
    },
    {
      "cell_type": "code",
      "source": [
        "def get_top_n_momentum(monthly_price, etfs=None,\n",
        "                       N_momentum=6, N_skip=2, top_n=3,\n",
        "                       reference_date=None, use_filtered=True):\n",
        "    \"\"\"\n",
        "    최근 기준 월말(reference_date) 기준 top_n 모멘텀 종목 선택\n",
        "    \"\"\"\n",
        "    # 1️⃣ 필터링\n",
        "    if use_filtered and etfs is not None:\n",
        "        exclude_pattern = \"레버리지|인버스|2X|커버드콜|혼합\"\n",
        "        exclude_symbols = etfs[etfs['Name'].str.contains(exclude_pattern, regex=True)]['Symbol'].tolist()\n",
        "        monthly_price = monthly_price.drop(columns=[c for c in monthly_price.columns if c in exclude_symbols])\n",
        "\n",
        "    monthly_price = monthly_price.sort_index()\n",
        "    month_end = monthly_price.resample('M').last()\n",
        "\n",
        "    # 2️⃣ 기준 월말\n",
        "    ref = pd.to_datetime(reference_date) + pd.offsets.MonthEnd(0)\n",
        "    if ref not in month_end.index:\n",
        "        raise ValueError(f\"{reference_date} 는 월말 데이터에 없음.\")\n",
        "\n",
        "    i = month_end.index.get_loc(ref)\n",
        "    if i < (N_momentum + N_skip):\n",
        "        raise ValueError(\"데이터가 부족합니다. 더 긴 기간 필요.\")\n",
        "\n",
        "    # 3️⃣ 모멘텀 계산용 기간\n",
        "    start_idx = i - (N_momentum + N_skip)\n",
        "    end_idx = i - N_skip\n",
        "    momentum_window = month_end.iloc[start_idx:end_idx+1]  # 끝 포함\n",
        "\n",
        "    # 4️⃣ 모멘텀 점수: 마지막 달 / 첫 달 - 1\n",
        "    momentum_scores = (momentum_window.iloc[-1] / momentum_window.iloc[0]) - 1\n",
        "\n",
        "    # 5️⃣ 상위 top_n 선택\n",
        "    top_symbols = momentum_scores.nlargest(top_n).index\n",
        "    top_scores = momentum_scores[top_symbols]\n",
        "\n",
        "    # 이름 매핑\n",
        "    if etfs is not None:\n",
        "        names = etfs.set_index(\"Symbol\").loc[top_symbols, \"Name\"].tolist()\n",
        "    else:\n",
        "        names = list(top_symbols)\n",
        "\n",
        "    # 6️⃣ DataFrame 반환\n",
        "    df_top = pd.DataFrame({\n",
        "        \"ReferenceMonth\": [ref.strftime(\"%Y-%m\")],\n",
        "        \"NextMonth\": [(ref + pd.offsets.MonthEnd(1)).strftime(\"%Y-%m\")],\n",
        "        \"Selected\": [list(top_symbols)],\n",
        "        \"Names\": [names],\n",
        "        \"Momentum\": [list(top_scores.round(4))]\n",
        "    })\n",
        "\n",
        "    return df_top"
      ],
      "metadata": {
        "id": "3zkJAht7lNGv"
      },
      "execution_count": 27,
      "outputs": []
    },
    {
      "cell_type": "code",
      "source": [
        "top3_df = get_top_n_momentum(monthly_price, etfs,\n",
        "                             N_momentum=6, N_skip=2, top_n=3,\n",
        "                             reference_date=\"2025-09\")\n",
        "print(top3_df)"
      ],
      "metadata": {
        "colab": {
          "base_uri": "https://localhost:8080/"
        },
        "id": "xsqkh_IslbuQ",
        "outputId": "5ad0a90b-3447-4912-e459-52e5bb6e4a3f"
      },
      "execution_count": 29,
      "outputs": [
        {
          "output_type": "stream",
          "name": "stdout",
          "text": [
            "  ReferenceMonth NextMonth                  Selected  \\\n",
            "0        2025-09   2025-10  [463250, 139230, 494670]   \n",
            "\n",
            "                                          Names                 Momentum  \n",
            "0  [TIGER K방산&우주, TIGER 200 중공업, TIGER 조선TOP10]  [1.5865, 0.863, 0.6575]  \n"
          ]
        }
      ]
    },
    {
      "cell_type": "code",
      "source": [],
      "metadata": {
        "id": "ThhhYaIEoawf"
      },
      "execution_count": null,
      "outputs": []
    }
  ]
}