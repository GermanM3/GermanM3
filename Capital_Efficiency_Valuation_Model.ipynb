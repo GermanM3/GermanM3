{
  "nbformat": 4,
  "nbformat_minor": 0,
  "metadata": {
    "colab": {
      "provenance": [],
      "authorship_tag": "ABX9TyN2Xcp/lZpA7YJhcz4d0cid",
      "include_colab_link": true
    },
    "kernelspec": {
      "name": "python3",
      "display_name": "Python 3"
    },
    "language_info": {
      "name": "python"
    }
  },
  "cells": [
    {
      "cell_type": "markdown",
      "metadata": {
        "id": "view-in-github",
        "colab_type": "text"
      },
      "source": [
        "<a href=\"https://colab.research.google.com/github/GermanM3/GermanM3/blob/master/Capital_Efficiency_Valuation_Model.ipynb\" target=\"_parent\"><img src=\"https://colab.research.google.com/assets/colab-badge.svg\" alt=\"Open In Colab\"/></a>"
      ]
    },
    {
      "cell_type": "code",
      "execution_count": null,
      "metadata": {
        "id": "Pgqb3TNk4Yxy"
      },
      "outputs": [],
      "source": [
        "pip install pykrx finance-datareader ta"
      ]
    },
    {
      "cell_type": "code",
      "source": [
        "import pandas as pd\n",
        "import numpy as np\n",
        "from datetime import datetime, timedelta\n",
        "\n",
        "from pykrx import stock\n",
        "import FinanceDataReader as fdr"
      ],
      "metadata": {
        "id": "MqAktH8R_oN1"
      },
      "execution_count": null,
      "outputs": []
    },
    {
      "cell_type": "code",
      "source": [
        "# === 1) 파라미터 ===\n",
        "TICKER = \"044450\"\n",
        "NAME = \"KSS해운\"\n",
        "YEARS = 10\n",
        "TARGET_PBR = 1.0"
      ],
      "metadata": {
        "id": "6FJN47f1_nfR"
      },
      "execution_count": null,
      "outputs": []
    },
    {
      "cell_type": "code",
      "source": [
        "# === 2) 날짜 구간 설정 ===\n",
        "today = datetime.today()\n",
        "end_str = today.strftime(\"%Y%m%d\")\n",
        "\n",
        "# === 3) 현재가, 시총, 주식수 ===\n",
        "px = stock.get_market_ohlcv_by_date(fromdate=end_str, todate=end_str, ticker=TICKER)\n",
        "if px.empty:\n",
        "    yday = (today - timedelta(days=7)).strftime(\"%Y%m%d\")\n",
        "    px = stock.get_market_ohlcv_by_date(fromdate=yday, todate=end_str, ticker=TICKER).tail(1)\n",
        "close = float(px['종가'].iloc[-1])\n",
        "\n",
        "# --- 4) 펀더멘털 시계열 최적화 (현재 연도 데이터 포함) ---\n",
        "annual_list = []\n",
        "# 지난 10개 연도와 현재 연도를 포함한 리스트 생성\n",
        "years_to_fetch = list(range(today.year - YEARS, today.year + 1))\n",
        "\n",
        "for year in years_to_fetch:\n",
        "    end_date_str = f'{year}1231'\n",
        "\n",
        "    # 현재 연도는 오늘 날짜까지의 데이터를 가져오도록 설정\n",
        "    if year == today.year:\n",
        "        end_date_str = today.strftime(\"%Y%m%d\")\n",
        "        # 데이터가 없을 경우를 대비해 넉넉하게 15일치 조회\n",
        "        start_date = (today - timedelta(days=15)).strftime(\"%Y%m%d\")\n",
        "    else:\n",
        "        # 과거 연도는 연말 데이터를 가져오도록 설정\n",
        "        start_date = (datetime.strptime(end_date_str, \"%Y%m%d\") - timedelta(days=15)).strftime(\"%Y%m%d\")\n",
        "\n",
        "    try:\n",
        "        fund_data = stock.get_market_fundamental_by_date(start_date, end_date_str, TICKER)\n",
        "        if not fund_data.empty:\n",
        "            annual_list.append(fund_data.tail(1))\n",
        "    except Exception as e:\n",
        "        print(f\"Error fetching data for {year}: {e}\")\n",
        "        continue\n",
        "\n",
        "annual = pd.concat(annual_list, axis=0).sort_index()\n",
        "\n",
        "annual = annual[annual['BPS'] > 0]\n",
        "annual['ROE_%'] = (annual['EPS'] / annual['BPS']) * 100\n",
        "\n",
        "# 10년 평균 ROE (현재 연도 데이터 포함)\n",
        "avg_roe = float(annual['ROE_%'].mean())\n",
        "cur_bps = float(annual['BPS'].iloc[-1])\n",
        "\n",
        "# === 5) 채권형 주식 방식 계산 ===\n",
        "future_bps = cur_bps * (1 + avg_roe/100) ** YEARS\n",
        "price_target = future_bps * TARGET_PBR\n",
        "irr = (price_target / close) ** (1/YEARS) - 1\n",
        "\n",
        "# 보조: 현재 PBR, EPS, ROE 상세\n",
        "cur_row = annual.iloc[-1]\n",
        "cur_pbr = float(cur_row['PBR']) if 'PBR' in cur_row else np.nan\n",
        "cur_eps = float(cur_row['EPS']) if 'EPS' in cur_row else np.nan\n",
        "\n",
        "print(\"=\"*30)\n",
        "print(f\"종목: {NAME} ({TICKER})\")\n",
        "print(\"=\"*30)\n",
        "print(f\"✓ 현재가: {close:,.0f}원\")\n",
        "print(f\"✓ 현재 PBR: {cur_pbr:.2f}배\")\n",
        "print(f\"✓ 최근 ROE: {cur_row['ROE_%']:.2f}%\")\n",
        "print(f\"✓ 10년 평균 ROE: {avg_roe:.2f}%\")\n",
        "print(f\"✓ 현재 BPS: {cur_bps:,.0f}원\")\n",
        "print(f\"✓ 10년 후 예상 BPS: {future_bps:,.0f}원\")\n",
        "print(f\"✓ 10년 후 목표 주가: {price_target:,.0f}원\")\n",
        "print(f\"✓ 연평균 기대수익률 (IRR): {(irr*100):.2f}%\")\n",
        "print(\"=\"*30)"
      ],
      "metadata": {
        "id": "_WoAUT1Z4g9A",
        "colab": {
          "base_uri": "https://localhost:8080/"
        },
        "outputId": "419b8879-c7d3-4c5d-a1b0-f3d817c2f7d9"
      },
      "execution_count": 29,
      "outputs": [
        {
          "output_type": "stream",
          "name": "stdout",
          "text": [
            "==============================\n",
            "종목: KSS해운 (044450)\n",
            "==============================\n",
            "✓ 현재가: 9,300원\n",
            "✓ 현재 PBR: 0.39배\n",
            "✓ 최근 ROE: 10.84%\n",
            "✓ 10년 평균 ROE: 9.48%\n",
            "✓ 현재 BPS: 23,452원\n",
            "✓ 10년 후 예상 BPS: 58,013원\n",
            "✓ 10년 후 목표 주가: 58,013원\n",
            "✓ 연평균 기대수익률 (IRR): 20.09%\n",
            "==============================\n"
          ]
        }
      ]
    },
    {
      "cell_type": "code",
      "source": [
        "# === 7) 부가: 시각화용 테이블 ===\n",
        "view = annual[['EPS','BPS','PBR']].copy()\n",
        "view['ROE_%(EPS/BPS)'] = (view['EPS']/view['BPS']*100).round(2)\n",
        "print(\"\\n[연도별 EPS/BPS/PBR 및 근사 ROE(%)]\")\n",
        "print(view)"
      ],
      "metadata": {
        "colab": {
          "base_uri": "https://localhost:8080/"
        },
        "id": "Ir5fm7wG5ah3",
        "outputId": "1fb34bbc-1a5f-467b-a0bb-3fdb0bb311ad"
      },
      "execution_count": 30,
      "outputs": [
        {
          "output_type": "stream",
          "name": "stdout",
          "text": [
            "\n",
            "[연도별 EPS/BPS/PBR 및 근사 ROE(%)]\n",
            "             EPS    BPS   PBR  ROE_%(EPS/BPS)\n",
            "날짜                                           \n",
            "2015-12-30  1815  15902  1.08           11.41\n",
            "2016-12-29  1016   9154  0.88           11.10\n",
            "2017-12-28   585  10177  0.89            5.75\n",
            "2018-12-28  1120   9806  0.66           11.42\n",
            "2019-12-30   914  10756  0.72            8.50\n",
            "2020-12-30  1034  12026  0.86            8.60\n",
            "2021-12-30   584  11592  1.02            5.04\n",
            "2022-12-29  2497  15261  0.61           16.36\n",
            "2023-12-28  2016  17995  0.51           11.20\n",
            "2024-12-30   755  18624  0.47            4.05\n",
            "2025-08-20  2543  23452  0.39           10.84\n"
          ]
        }
      ]
    }
  ]
}