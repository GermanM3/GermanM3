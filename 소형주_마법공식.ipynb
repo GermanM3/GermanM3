{
  "nbformat": 4,
  "nbformat_minor": 0,
  "metadata": {
    "colab": {
      "provenance": [],
      "authorship_tag": "ABX9TyMP5TfhWCiBCcfPyPDVlRce",
      "include_colab_link": true
    },
    "kernelspec": {
      "name": "python3",
      "display_name": "Python 3"
    },
    "language_info": {
      "name": "python"
    }
  },
  "cells": [
    {
      "cell_type": "markdown",
      "metadata": {
        "id": "view-in-github",
        "colab_type": "text"
      },
      "source": [
        "<a href=\"https://colab.research.google.com/github/GermanM3/GermanM3/blob/master/%EC%86%8C%ED%98%95%EC%A3%BC_%EB%A7%88%EB%B2%95%EA%B3%B5%EC%8B%9D.ipynb\" target=\"_parent\"><img src=\"https://colab.research.google.com/assets/colab-badge.svg\" alt=\"Open In Colab\"/></a>"
      ]
    },
    {
      "cell_type": "code",
      "source": [
        "pip install pykrx\n",
        "pip install finance-datareader"
      ],
      "metadata": {
        "id": "1klJIYOaYooR"
      },
      "execution_count": null,
      "outputs": []
    },
    {
      "cell_type": "code",
      "source": [
        "from pykrx import stock\n",
        "import FinanceDataReader as fdr\n",
        "\n",
        "import pandas as pd\n",
        "import numpy as np\n",
        "import datetime\n",
        "import time\n",
        "import random\n",
        "from concurrent.futures import ThreadPoolExecutor"
      ],
      "metadata": {
        "id": "OyxKES4lYpJ_"
      },
      "execution_count": null,
      "outputs": []
    },
    {
      "cell_type": "code",
      "source": [
        "from google.colab import files\n",
        "\n",
        "# 파일 업로드\n",
        "uploaded = files.upload()\n",
        "# 파일명 확인 (업로드한 파일명을 딕셔너리로 반환)\n",
        "file_name = list(uploaded.keys())[0]\n",
        "\n",
        "# 엑셀 파일 읽기\n",
        "df = pd.read_excel(file_name)\n",
        "df['Code']=df['Code'].astype(str).str.zfill(6)"
      ],
      "metadata": {
        "id": "ZKcOVyClY-3-"
      },
      "execution_count": null,
      "outputs": []
    },
    {
      "cell_type": "code",
      "source": [
        "codes=df['Code'].tolist()\n",
        "start_date = datetime.date(2014, 1, 1)\n",
        "end_date = datetime.date(2024, 9, 30)"
      ],
      "metadata": {
        "id": "4xpCAayqZCA_"
      },
      "execution_count": null,
      "outputs": []
    },
    {
      "cell_type": "code",
      "source": [
        "import time\n",
        "import random\n",
        "from concurrent.futures import ThreadPoolExecutor\n",
        "\n",
        "def fetch_monthly_close(code):\n",
        "    time.sleep(random.uniform(0.1, 0.3))  # 짧은 랜덤 지연으로 API 과부하 방지\n",
        "    df1 = fdr.DataReader(code, start_date, end_date)\n",
        "    monthly_close = df1['Close'].resample('ME').last()  # 월말 종가만 가져오기\n",
        "    return code, monthly_close\n",
        "\n",
        "stock_data = {}\n",
        "with ThreadPoolExecutor(max_workers=10) as executor:  # max_workers를 최적화된 값으로 조정\n",
        "    results = executor.map(fetch_monthly_close, codes)\n",
        "    for code, monthly_close in results:  # 결과 수집\n",
        "        stock_data[code] = monthly_close\n",
        "\n",
        "# 모든 종목의 월말 종가 데이터를 하나의 DataFrame으로 결합\n",
        "mret = pd.DataFrame(stock_data)"
      ],
      "metadata": {
        "id": "soHly4OhZDwT"
      },
      "execution_count": null,
      "outputs": []
    },
    {
      "cell_type": "code",
      "source": [
        "start_date = \"20140101\"\n",
        "end_date = \"20240930\"\n",
        "\n",
        "def fetch_fundamental_data(code):\n",
        "    time.sleep(random.uniform(0.05, 0.15))  # 랜덤 딜레이 범위를 좁혀 호출 속도 향상\n",
        "    try:\n",
        "        data = stock.get_market_fundamental(start_date, end_date, code, freq=\"m\")\n",
        "        data['code'] = code  # 종목 코드 추가\n",
        "        return data\n",
        "    except Exception as e:\n",
        "        print(f\"Error fetching data for {code}: {e}\")\n",
        "        return None  # 오류 발생 시 None 반환\n",
        "\n",
        "results = []\n",
        "with ThreadPoolExecutor(max_workers=20) as executor:  # max_workers 조정으로 속도 향상\n",
        "    futures = {executor.submit(fetch_fundamental_data, code): code for code in codes}\n",
        "    for future in futures:\n",
        "        result = future.result()\n",
        "        if result is not None:  # 유효한 데이터만 추가\n",
        "            results.append(result)\n"
      ],
      "metadata": {
        "id": "hJA44KGAYpMa"
      },
      "execution_count": null,
      "outputs": []
    },
    {
      "cell_type": "code",
      "source": [
        "result_df = pd.concat(results, ignore_index=False)\n",
        "result_df.index.names = ['Date']  # Set the primary index name directly\n",
        "result_df.set_index('code', append=True, inplace=True)  # Add 'code' as a second level to the index\n",
        "result_df['ROE']=result_df['EPS']/result_df['BPS']\n"
      ],
      "metadata": {
        "id": "6r-Z26kAYpO0"
      },
      "execution_count": null,
      "outputs": []
    },
    {
      "cell_type": "code",
      "source": [],
      "metadata": {
        "id": "GkRECxXrYpRO"
      },
      "execution_count": null,
      "outputs": []
    },
    {
      "cell_type": "code",
      "source": [],
      "metadata": {
        "id": "P-nruuyTYpTg"
      },
      "execution_count": null,
      "outputs": []
    },
    {
      "cell_type": "code",
      "source": [],
      "metadata": {
        "id": "QH4h0KYqYpV5"
      },
      "execution_count": null,
      "outputs": []
    },
    {
      "cell_type": "code",
      "source": [],
      "metadata": {
        "id": "HjJShwyMYpZP"
      },
      "execution_count": null,
      "outputs": []
    },
    {
      "cell_type": "code",
      "source": [],
      "metadata": {
        "id": "XI42GboHYpbp"
      },
      "execution_count": null,
      "outputs": []
    },
    {
      "cell_type": "code",
      "source": [
        "price_data= mret.set_index('Date')"
      ],
      "metadata": {
        "id": "WtKKIq5TR1ig"
      },
      "execution_count": 25,
      "outputs": []
    },
    {
      "cell_type": "code",
      "source": [
        "# 자본수익률(ROC)과 이익수익률 계산\n",
        "df['ROC'] = df['ROE']  # ROE를 그대로 사용\n",
        "df['Earnings_Yield'] = 1 / df['PER']  # PER의 역수\n",
        "\n",
        "# 종목별로 그룹화하여 각 월별 ROC와 이익수익률의 순위 계산\n",
        "df['ROC_Rank'] = df.groupby('Date')['ROC'].rank(ascending=False)\n",
        "df['EY_Rank'] = df.groupby('Date')['Earnings_Yield'].rank(ascending=False)\n",
        "\n",
        "# 마법공식 순위: ROC와 이익수익률 순위의 합\n",
        "df['Magic_Formula_Rank'] = df['ROC_Rank'] + df['EY_Rank']\n",
        "\n",
        "# 각 월별로 상위 n개 종목 선택 (예: n = 5)\n",
        "n = 5\n",
        "top_n_stocks = df.groupby('Date').apply(lambda x: x.nsmallest(n, 'Magic_Formula_Rank')).reset_index(drop=True)\n",
        "\n",
        "print(top_n_stocks[['Date', 'code', 'Magic_Formula_Rank']])"
      ],
      "metadata": {
        "colab": {
          "base_uri": "https://localhost:8080/"
        },
        "id": "wsJ5Bu1rGoNU",
        "outputId": "917d70b2-36c4-4b3b-98c3-32a6aff23123"
      },
      "execution_count": 45,
      "outputs": [
        {
          "output_type": "stream",
          "name": "stdout",
          "text": [
            "          Date    code  Magic_Formula_Rank\n",
            "0   2014-01-31  005320               108.0\n",
            "1   2014-01-31  037350               119.0\n",
            "2   2014-01-31  079650               119.0\n",
            "3   2014-01-31  039290               120.0\n",
            "4   2014-01-31  153460               140.0\n",
            "..         ...     ...                 ...\n",
            "640 2024-09-30  154040               180.0\n",
            "641 2024-09-30  042940               181.0\n",
            "642 2024-09-30  092460               184.0\n",
            "643 2024-09-30  085310               184.0\n",
            "644 2024-09-30  019540               195.0\n",
            "\n",
            "[645 rows x 3 columns]\n"
          ]
        },
        {
          "output_type": "stream",
          "name": "stderr",
          "text": [
            "<ipython-input-45-7e7ef33a4e85>:14: DeprecationWarning: DataFrameGroupBy.apply operated on the grouping columns. This behavior is deprecated, and in a future version of pandas the grouping columns will be excluded from the operation. Either pass `include_groups=False` to exclude the groupings or explicitly select the grouping columns after groupby to silence this warning.\n",
            "  top_n_stocks = df.groupby('Date').apply(lambda x: x.nsmallest(n, 'Magic_Formula_Rank')).reset_index(drop=True)\n"
          ]
        }
      ]
    },
    {
      "cell_type": "code",
      "source": [
        "# 각 월별로 상위 n개 종목 선택 (예: n = 5)\n",
        "n = 3\n",
        "top_n_stocks = df.groupby('Date').apply(lambda x: x.nsmallest(n, 'Magic_Formula_Rank')).reset_index(drop=True)\n",
        "\n",
        "def backtest(price_data, top_n_stocks, n=3):\n",
        "    # 월별 수익률 저장 변수 초기화\n",
        "    monthly_returns = []\n",
        "\n",
        "    # 월별로 반복하여 상위 n개의 종목에 대한 수익률 계산\n",
        "    for date in top_n_stocks['Date'].unique():\n",
        "        # 해당 월의 상위 n 종목 가져오기\n",
        "        top_stocks = top_n_stocks[top_n_stocks['Date'] == date]['code'].values\n",
        "\n",
        "        # 상위 종목의 가격 데이터 필터링\n",
        "        if len(top_stocks) == 0:\n",
        "            continue\n",
        "\n",
        "        # 현재 월 가격\n",
        "        try:\n",
        "            prices = price_data.loc[date, top_stocks]\n",
        "        except KeyError:\n",
        "            print(f\"가격 데이터가 존재하지 않음: {date}에 대한 {top_stocks}\")\n",
        "            continue\n",
        "\n",
        "        # 수익률 계산을 위한 직전 월 가격 데이터\n",
        "        prev_date = price_data.index[price_data.index < date].max()\n",
        "        if pd.isna(prev_date):  # NaT가 아닌 경우만 진행\n",
        "            print(f\"유효한 이전 날짜가 없습니다: {date}\")\n",
        "            continue\n",
        "\n",
        "        try:\n",
        "            prev_prices = price_data.loc[prev_date, top_stocks]\n",
        "            # 수익률 계산 (현재 월 / 이전 월 - 1)\n",
        "            returns = (prices / prev_prices - 1).mean()\n",
        "            monthly_returns.append((date, returns))\n",
        "        except KeyError:\n",
        "            print(f\"이전 가격 데이터가 존재하지 않음: {prev_date}에 대한 {top_stocks}\")\n",
        "            continue\n",
        "\n",
        "    # 결과 데이터프레임 생성\n",
        "    monthly_returns_df = pd.DataFrame(monthly_returns, columns=['Date', 'Monthly_Return'])\n",
        "    monthly_returns_df.set_index('Date', inplace=True)\n",
        "\n",
        "    # 누적 수익률 계산\n",
        "    cumulative_return = (1 + monthly_returns_df['Monthly_Return']).cumprod() - 1\n",
        "\n",
        "    return monthly_returns_df, cumulative_return\n",
        "\n",
        "# 백테스팅 실행\n",
        "monthly_returns_df, cumulative_return = backtest(price_data, top_n_stocks, n=3)"
      ],
      "metadata": {
        "colab": {
          "base_uri": "https://localhost:8080/"
        },
        "id": "tJoBQs6_PK8Z",
        "outputId": "d94a19d7-1c55-4f2e-b9cb-38fc527ab392"
      },
      "execution_count": 50,
      "outputs": [
        {
          "output_type": "stream",
          "name": "stderr",
          "text": [
            "<ipython-input-50-d8314062d5b5>:3: DeprecationWarning: DataFrameGroupBy.apply operated on the grouping columns. This behavior is deprecated, and in a future version of pandas the grouping columns will be excluded from the operation. Either pass `include_groups=False` to exclude the groupings or explicitly select the grouping columns after groupby to silence this warning.\n",
            "  top_n_stocks = df.groupby('Date').apply(lambda x: x.nsmallest(n, 'Magic_Formula_Rank')).reset_index(drop=True)\n"
          ]
        },
        {
          "output_type": "stream",
          "name": "stdout",
          "text": [
            "유효한 이전 날짜가 없습니다: 2014-01-31 00:00:00\n"
          ]
        }
      ]
    }
  ]
}