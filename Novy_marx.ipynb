{
  "nbformat": 4,
  "nbformat_minor": 0,
  "metadata": {
    "colab": {
      "provenance": [],
      "authorship_tag": "ABX9TyNQ0hVdeikoRUqzo5KoCo5c",
      "include_colab_link": true
    },
    "kernelspec": {
      "name": "python3",
      "display_name": "Python 3"
    },
    "language_info": {
      "name": "python"
    }
  },
  "cells": [
    {
      "cell_type": "markdown",
      "metadata": {
        "id": "view-in-github",
        "colab_type": "text"
      },
      "source": [
        "<a href=\"https://colab.research.google.com/github/GermanM3/GermanM3/blob/master/Novy_marx.ipynb\" target=\"_parent\"><img src=\"https://colab.research.google.com/assets/colab-badge.svg\" alt=\"Open In Colab\"/></a>"
      ]
    },
    {
      "cell_type": "code",
      "source": [
        "pip install finance-datareader"
      ],
      "metadata": {
        "id": "Nd5FCLFfbz07"
      },
      "execution_count": null,
      "outputs": []
    },
    {
      "cell_type": "code",
      "source": [
        "import pandas as pd\n",
        "import FinanceDataReader as fdr\n",
        "import re\n",
        "import numpy as np\n",
        "import datetime\n",
        "import matplotlib.pyplot as plt\n",
        "import warnings\n",
        "warnings.filterwarnings('ignore')"
      ],
      "metadata": {
        "id": "Z0a3ajOplREM"
      },
      "execution_count": null,
      "outputs": []
    },
    {
      "cell_type": "code",
      "source": [
        "etfs = fdr.StockListing('ETF/KR')\n",
        "rep_etfs = etfs[etfs['Name'].str.contains(\"TIGER\", case=False)]\n"
      ],
      "metadata": {
        "id": "ilsQxQxclRHG"
      },
      "execution_count": null,
      "outputs": []
    },
    {
      "cell_type": "code",
      "source": [
        "import concurrent.futures\n",
        "\n",
        "# ==============================\n",
        "# 1. 기본 설정\n",
        "# ==============================\n",
        "symbols = rep_etfs['Symbol'].tolist()  # 대표 ETF 리스트\n",
        "\n",
        "start_date = (datetime.datetime.today() - pd.DateOffset(months=120)).strftime('%Y-%m-%d')\n",
        "end_date = datetime.datetime.today().strftime('%Y-%m-%d')\n",
        "\n",
        "# ==============================\n",
        "# 2. 데이터 조회 함수 (월초/월말 포함)\n",
        "# ==============================\n",
        "def fetch_monthly_data(sym, start, end):\n",
        "    try:\n",
        "        df = fdr.DataReader(sym, start=start, end=end)[['Open', 'Close']]\n",
        "        df_monthly = pd.DataFrame({\n",
        "            f'{sym}_Open': df['Open'].resample('MS').first(),  # 월초 시가\n",
        "            f'{sym}_Close': df['Close'].resample('ME').last()   # 월말 종가\n",
        "        })\n",
        "        return df_monthly\n",
        "    except Exception as e:\n",
        "        print(f\"{sym} 조회 실패: {e}\")\n",
        "        return None\n",
        "\n",
        "# ==============================\n",
        "# 3. 병렬 처리\n",
        "# ==============================\n",
        "all_data_list = []\n",
        "\n",
        "max_workers = 8  # CPU 코어 수나 네트워크 상황에 맞게 조절\n",
        "with concurrent.futures.ThreadPoolExecutor(max_workers=max_workers) as executor:\n",
        "    futures = {executor.submit(fetch_monthly_data, sym, start_date, end_date): sym for sym in symbols}\n",
        "    for future in concurrent.futures.as_completed(futures):\n",
        "        result = future.result()\n",
        "        if result is not None:\n",
        "            all_data_list.append(result)"
      ],
      "metadata": {
        "id": "kTd9GyxXlRJS"
      },
      "execution_count": null,
      "outputs": []
    },
    {
      "cell_type": "code",
      "source": [
        "monthly_merged = pd.concat(all_data_list, axis=1)\n",
        "\n",
        "# 월초 시가 / 월말 종가 분리\n",
        "monthly_open = monthly_merged.filter(like='_Open').rename(columns=lambda x: x.replace('_Open',''))\n",
        "monthly_close = monthly_merged.filter(like='_Close').rename(columns=lambda x: x.replace('_Close',''))\n",
        "\n",
        "# 인덱스 변환 및 검증\n",
        "monthly_open.index = pd.to_datetime(monthly_open.index, errors='coerce')\n",
        "monthly_close.index = pd.to_datetime(monthly_close.index, errors='coerce')\n",
        "assert monthly_open.index.equals(monthly_close.index), \"Index mismatch between open and close\""
      ],
      "metadata": {
        "id": "B_KtYbymlatr"
      },
      "execution_count": null,
      "outputs": []
    },
    {
      "cell_type": "code",
      "source": [
        "monthly_price = monthly_open.combine_first(monthly_close)"
      ],
      "metadata": {
        "id": "eQ5WA5MsocuD"
      },
      "execution_count": null,
      "outputs": []
    },
    {
      "cell_type": "code",
      "source": [
        "def momentum_backtest(monthly_price, etfs=None, use_filtered=True,\n",
        "                      N_momentum=12, N_skip=1, top_n=3):\n",
        "    \"\"\"\n",
        "    모멘텀 백테스트 함수. 12-2, 12-7 모멘텀 측정을 위해 N_skip 파라미터 추가.\n",
        "\n",
        "    :param monthly_price: DataFrame (컬럼=Symbol, 값=가격)\n",
        "    :param etfs: DataFrame (Symbol, Name 포함)\n",
        "    :param use_filtered: True면 레버리지/인버스/커버드콜/혼합 종목 제외\n",
        "    :param N_momentum: 모멘텀 계산을 위한 전체 기간 (예: 12개월)\n",
        "    :param N_skip: 모멘텀 계산 시 제외할 최근 기간 (예: 12-2 모멘텀은 1개월 제외, N_skip=1)\n",
        "    :param top_n: 포트폴리오에 편입할 종목 수\n",
        "    \"\"\"\n",
        "\n",
        "    # ✅ 필터링 옵션\n",
        "    if use_filtered and etfs is not None:\n",
        "        exclude_pattern = \"레버리지|인버스|2X|커버드콜|혼합\"\n",
        "        exclude_symbols = etfs[etfs['Name'].str.contains(exclude_pattern, regex=True)]['Symbol'].tolist()\n",
        "        monthly_price = monthly_price.drop(columns=[c for c in monthly_price.columns if c in exclude_symbols])\n",
        "\n",
        "    monthly_price = monthly_price.sort_index()\n",
        "\n",
        "    # 월말 종가만 추출\n",
        "    month_end = monthly_price.resample('M').last()\n",
        "\n",
        "    # =========================================================================\n",
        "    # ✅ N개월 모멘텀 계산 (N_skip 적용)\n",
        "    # 현재 시점 (t)와 비교할 N개월 전 시점 (t - N_momentum - N_skip)을 계산\n",
        "\n",
        "    # 1. 분자 (현재 가격): N_skip 개월 후의 가격을 가져와서 현재 시점으로 shift\n",
        "    #    예: 12-2 모멘텀 (N_skip=1) -> month_end.shift(-1)이 t-1 가격을 t에 가져옴\n",
        "    #    하지만 우리는 t-1 가격을 t에 사용하고 싶으므로, shift(N_skip)을 활용하여\n",
        "    #    'N_skip 개월 전'의 가격을 구하는 대신, 가격을 'N_skip 개월 뒤'로 밀어 계산합니다.\n",
        "\n",
        "    # 2. 분모 (N개월 전 가격): N_momentum + N_skip 개월 전의 가격\n",
        "\n",
        "    # 모멘텀 계산을 위한 기준 시작 시점 (t - (N_momentum + N_skip))\n",
        "    start_price = month_end.shift(N_momentum + N_skip)\n",
        "\n",
        "    # 모멘텀 계산을 위한 기준 종료 시점 (t - N_skip)\n",
        "    # 12-2 모멘텀의 경우 t-1월 가격이 모멘텀 종료 가격이 됨. (month_end.shift(N_skip) 사용)\n",
        "    end_price = month_end.shift(N_skip)\n",
        "\n",
        "    # 12-2 모멘텀: (P(t-1) / P(t-13)) - 1\n",
        "    # 12-7 모멘텀: (P(t-7) / P(t-19)) - 1\n",
        "    momentum = (end_price / start_price) - 1\n",
        "\n",
        "    # =========================================================================\n",
        "\n",
        "    results = []\n",
        "    # 모멘텀 시작 기간 이후부터 백테스트 시작\n",
        "    # N_momentum + N_skip 만큼의 데이터가 필요하며, 인덱스는 0부터 시작하므로 + N_skip을 더함.\n",
        "    # 포트폴리오는 i+1월에 구성되므로 len(month_end) - 1 까지 순회\n",
        "    start_index = N_momentum + N_skip\n",
        "\n",
        "    for i in range(start_index, len(month_end)-1):\n",
        "        mom = momentum.iloc[i]\n",
        "        # NaN 값 제거 후 top_n 선정\n",
        "        top_symbols = mom.dropna().nlargest(top_n).index\n",
        "        top_scores = mom[top_symbols]\n",
        "\n",
        "        # 익월 월초~말일 수익률 계산\n",
        "        next_month_idx = month_end.index[i+1]\n",
        "\n",
        "        # 익월의 첫 거래일 가격 (매수 시점)\n",
        "        next_month_start = monthly_price.loc[monthly_price.index >= next_month_idx.replace(day=1)].iloc[0]\n",
        "        # 익월의 마지막 거래일 가격 (매도 시점)\n",
        "        next_month_end = month_end.iloc[i+1]\n",
        "\n",
        "        returns = (next_month_end[top_symbols] - next_month_start[top_symbols]) / next_month_start[top_symbols]\n",
        "        portfolio_return = returns.mean()\n",
        "\n",
        "        results.append({\n",
        "            'Month': next_month_idx.strftime('%Y-%m'),\n",
        "            'Selected': list(top_symbols),\n",
        "            'Momentum': list(top_scores.round(4)),\n",
        "            'NextMonthReturn': list(returns.round(4)),\n",
        "            'PortfolioReturn': round(portfolio_return, 4)\n",
        "        })\n",
        "\n",
        "    monthly_results = pd.DataFrame(results)\n",
        "    cumulative_returns = (1 + monthly_results['PortfolioReturn']).cumprod()\n",
        "\n",
        "    return monthly_results, cumulative_returns"
      ],
      "metadata": {
        "id": "Vyi4KHGSle5D"
      },
      "execution_count": null,
      "outputs": []
    },
    {
      "cell_type": "code",
      "source": [
        "# 예시: 12-2 모멘텀 테스트\n",
        "# monthly_price와 etfs DataFrame이 미리 정의되어 있다고 가정합니다.\n",
        "results_N_n, cumulative_N_n = momentum_backtest(monthly_price, etfs=etfs, N_momentum=6, N_skip=2, top_n=3)"
      ],
      "metadata": {
        "id": "XNKxzjRSltAE"
      },
      "execution_count": null,
      "outputs": []
    },
    {
      "cell_type": "code",
      "source": [
        "#cumulative_N_n.pct_change().dropna().to_excel(\"momentum_cumulative_return.xlsx\")"
      ],
      "metadata": {
        "id": "PGJOL45Qoyuw"
      },
      "execution_count": 312,
      "outputs": []
    },
    {
      "cell_type": "code",
      "source": [
        "# 📊 누적 수익률 비교 시각화\n",
        "plt.figure(figsize=(10,6))\n",
        "cumulative_N_n.plot(label=\"All ETFs\")\n",
        "#cum_ret_filtered.plot(label=\"Filtered ETFs\")\n",
        "plt.title(\"Momentum Cumulative Return (All)\")\n",
        "plt.ylabel(\"Cumulative Return\")\n",
        "plt.legend()\n",
        "plt.show()"
      ],
      "metadata": {
        "colab": {
          "base_uri": "https://localhost:8080/",
          "height": 545
        },
        "id": "bddHjgBnosbo",
        "outputId": "2e434004-a9e5-463b-e02e-bd955e31af94"
      },
      "execution_count": null,
      "outputs": [
        {
          "output_type": "display_data",
          "data": {
            "text/plain": [
              "<Figure size 1000x600 with 1 Axes>"
            ],
            "image/png": "[encoded data removed]"
          },
          "metadata": {}
        }
      ]
    },
    {
      "cell_type": "code",
      "source": [
        "import pandas as pd\n",
        "import numpy as np\n",
        "\n",
        "def performance_stats(cumulative_returns):\n",
        "    \"\"\"성과지표 계산 (CAGR, MDD, Sharpe, Calmar)\"\"\"\n",
        "    # 연환산 수익률 (CAGR)\n",
        "    total_return = cumulative_returns.iloc[-1] - 1\n",
        "    years = len(cumulative_returns) / 12\n",
        "    cagr = (1 + total_return) ** (1 / years) - 1\n",
        "\n",
        "    # 최대낙폭 (MDD)\n",
        "    running_max = cumulative_returns.cummax()\n",
        "    drawdown = cumulative_returns / running_max - 1\n",
        "    mdd = drawdown.min()  # 음수 값\n",
        "\n",
        "    # 샤프비율 (단순, 무위험수익률=0)\n",
        "    monthly_returns = cumulative_returns.pct_change().dropna()\n",
        "    sharpe = (monthly_returns.mean() / monthly_returns.std()) * np.sqrt(12)\n",
        "\n",
        "    # Calmar Ratio = CAGR / |MDD|\n",
        "    calmar = cagr / abs(mdd) if mdd != 0 else np.nan\n",
        "\n",
        "    return round(cagr,4), round(mdd,4), round(sharpe,4), round(calmar,4)\n",
        "\n",
        "\n",
        "def optimize_momentum(monthly_price, etfs,\n",
        "                      momentum_list=[6,9,12],\n",
        "                      skip_list=[1,2],\n",
        "                      topn_list=[3,5]):\n",
        "    results = []\n",
        "    for N_mom in momentum_list:\n",
        "        for N_skip in skip_list:\n",
        "            for top_n in topn_list:\n",
        "                monthly_results, cumulative = momentum_backtest(\n",
        "                    monthly_price, etfs=etfs,\n",
        "                    N_momentum=N_mom, N_skip=N_skip, top_n=top_n\n",
        "                )\n",
        "                cagr, mdd, sharpe, calmar = performance_stats(cumulative)\n",
        "                results.append([N_mom, N_skip, top_n, cagr, mdd, sharpe, calmar])\n",
        "    return pd.DataFrame(results,\n",
        "                        columns=[\"N_momentum\",\"N_skip\",\"top_n\",\"CAGR\",\"MDD\",\"Sharpe\",\"Calmar\"])\n"
      ],
      "metadata": {
        "id": "aFZcd7Vuzlr9"
      },
      "execution_count": null,
      "outputs": []
    },
    {
      "cell_type": "code",
      "source": [
        "df_opt = optimize_momentum(monthly_price, etfs,\n",
        "                           momentum_list=[3,6,9,12],\n",
        "                           skip_list=[1,2,3],\n",
        "                           topn_list=[3,5,7])\n",
        "\n",
        "print(df_opt.sort_values(\"Calmar\", ascending=False).head(10))"
      ],
      "metadata": {
        "colab": {
          "base_uri": "https://localhost:8080/"
        },
        "id": "6UFr1Z3M0JEF",
        "outputId": "c9878405-439e-478a-9cf1-171055905d3e"
      },
      "execution_count": null,
      "outputs": [
        {
          "output_type": "stream",
          "name": "stdout",
          "text": [
            "    N_momentum  N_skip  top_n    CAGR     MDD  Sharpe  Calmar\n",
            "12           6       2      3  0.1298 -0.2394  0.7297  0.5422\n",
            "4            3       2      5  0.1103 -0.3238  0.6551  0.3408\n",
            "13           6       2      5  0.0906 -0.2971  0.5594  0.3050\n",
            "5            3       2      7  0.0928 -0.3480  0.5926  0.2665\n",
            "3            3       2      3  0.1102 -0.4610  0.5963  0.2390\n",
            "19           9       1      5  0.0688 -0.3106  0.4576  0.2216\n",
            "15           6       3      3  0.0721 -0.3503  0.4682  0.2059\n",
            "20           9       1      7  0.0656 -0.3372  0.4620  0.1946\n",
            "25           9       3      5  0.0673 -0.3552  0.4728  0.1894\n",
            "23           9       2      7  0.0652 -0.3450  0.4501  0.1889\n"
          ]
        }
      ]
    },
    {
      "cell_type": "code",
      "source": [
        "import pandas as pd\n",
        "import numpy as np\n",
        "\n",
        "def get_next_month_portfolio_df(monthly_price, etfs=None,\n",
        "                                N_momentum=12, N_skip=1, top_n=3,\n",
        "                                reference_date=None, use_filtered=False):\n",
        "    \"\"\"\n",
        "    특정 기준 월말 기준으로 다음달 포트폴리오 종목을 DataFrame으로 반환\n",
        "    NextMonthReturn 제외, 종목 선정 + 모멘텀만 출력\n",
        "    \"\"\"\n",
        "\n",
        "    if use_filtered and etfs is not None:\n",
        "        exclude_pattern = \"레버리지|인버스|2X|커버드콜|혼합\"\n",
        "        exclude_symbols = etfs[etfs['Name'].str.contains(exclude_pattern, regex=True)]['Symbol'].tolist()\n",
        "        monthly_price = monthly_price.drop(columns=[c for c in monthly_price.columns if c in exclude_symbols])\n",
        "\n",
        "    monthly_price = monthly_price.sort_index()\n",
        "    month_end = monthly_price.resample('M').last()\n",
        "\n",
        "    ref = pd.to_datetime(reference_date) + pd.offsets.MonthEnd(0)\n",
        "    if ref not in month_end.index:\n",
        "        raise ValueError(f\"{reference_date} 는 월말 데이터에 없음.\")\n",
        "\n",
        "    i = month_end.index.get_loc(ref)\n",
        "    if i < (N_momentum + N_skip):\n",
        "        raise ValueError(\"데이터가 부족합니다. 더 긴 기간 필요.\")\n",
        "\n",
        "    # 모멘텀 계산\n",
        "    start_price = month_end.shift(N_momentum + N_skip)\n",
        "    end_price = month_end.shift(N_skip)\n",
        "    momentum = (end_price / start_price) - 1\n",
        "    mom = momentum.iloc[i]\n",
        "\n",
        "    # top_n 선정\n",
        "    top_symbols = mom.dropna().nlargest(top_n).index\n",
        "    top_scores = mom[top_symbols]\n",
        "\n",
        "    # 이름 매핑\n",
        "    if etfs is not None:\n",
        "        names = etfs.set_index(\"Symbol\").loc[top_symbols, \"Name\"].tolist()\n",
        "    else:\n",
        "        names = list(top_symbols)\n",
        "\n",
        "    # DataFrame 생성\n",
        "    df = pd.DataFrame({\n",
        "        \"ReferenceMonth\": [ref.strftime(\"%Y-%m\")],\n",
        "        \"NextMonth\": [(ref + pd.offsets.MonthEnd(1)).strftime(\"%Y-%m\")],\n",
        "        \"Selected\": [list(top_symbols)],\n",
        "        \"Names\": [names],\n",
        "        \"Momentum\": [list(top_scores.round(4))]\n",
        "    })\n",
        "\n",
        "    return df"
      ],
      "metadata": {
        "id": "k1_gLfqh1LQX"
      },
      "execution_count": null,
      "outputs": []
    },
    {
      "cell_type": "code",
      "source": [
        "df_portfolio = get_next_month_portfolio_df(monthly_price, etfs,\n",
        "                                           N_momentum=6, N_skip=2, top_n=3,\n",
        "                                           reference_date=\"2025-08\")"
      ],
      "metadata": {
        "id": "gOsYlhFcNeXK"
      },
      "execution_count": null,
      "outputs": []
    },
    {
      "cell_type": "code",
      "metadata": {
        "id": "a05667b8"
      },
      "source": [
        "def combined_portfolio_backtest(monthly_price, etfs,\n",
        "                                N_momentum=6, N_skip=2, top_n=3,\n",
        "                                momentum_weight=0.7, bond_weight=0.3,\n",
        "                                us_index_weight=0):\n",
        "    \"\"\"\n",
        "    모멘텀 전략과 채권/미국 지수 ETF를 조합한 포트폴리오 백테스트 함수.\n",
        "\n",
        "    :param monthly_price: DataFrame (컬럼=Symbol, 값=가격)\n",
        "    :param etfs: DataFrame (Symbol, Name 포함)\n",
        "    :param N_momentum: 모멘텀 계산을 위한 전체 기간\n",
        "    :param N_skip: 모멘텀 계산 시 제외할 최근 기간\n",
        "    :param top_n: 모멘텀 전략에서 편입할 종목 수\n",
        "    :param momentum_weight: 모멘텀 전략 비중\n",
        "    :param bond_weight: 채권 ETF 비중\n",
        "    :param us_index_weight: 미국 지수 ETF 비중 (S&P500, 나스닥100)\n",
        "    \"\"\"\n",
        "\n",
        "    # 필터링 옵션 (모멘텀 전략에만 적용)\n",
        "    exclude_pattern = \"레버리지|인버스|2X|커버드콜|혼합\"\n",
        "    filtered_symbols = monthly_price.columns[~monthly_price.columns.isin(\n",
        "        etfs[etfs['Name'].str.contains(exclude_pattern, regex=True)]['Symbol'].tolist()\n",
        "    )].tolist()\n",
        "    monthly_price_filtered = monthly_price[filtered_symbols].copy()\n",
        "\n",
        "\n",
        "    monthly_price_filtered = monthly_price_filtered.sort_index()\n",
        "\n",
        "    # 월말 종가만 추출\n",
        "    month_end_filtered = monthly_price_filtered.resample('M').last()\n",
        "\n",
        "    # 모멘텀 계산 (필터링된 데이터 사용)\n",
        "    start_price_filtered = month_end_filtered.shift(N_momentum + N_skip)\n",
        "    end_price_filtered = month_end_filtered.shift(N_skip)\n",
        "    momentum_filtered = (end_price_filtered / start_price_filtered) - 1\n",
        "\n",
        "    results = []\n",
        "    start_index = N_momentum + N_skip\n",
        "\n",
        "    # 채권 및 미국 지수 ETF 찾기\n",
        "    bond_etfs = etfs[etfs['Name'].str.contains(\"국고채|종합채|회사채\", case=False) &\n",
        "                     ~etfs['Name'].str.contains(exclude_pattern, regex=True)]['Symbol'].tolist()\n",
        "    us_sp500_etfs = etfs[etfs['Name'].str.contains(\"S&P500\", case=False) &\n",
        "                         ~etfs['Name'].str.contains(exclude_pattern, regex=True)]['Symbol'].tolist()\n",
        "    us_nasdaq100_etfs = etfs[etfs['Name'].str.contains(\"나스닥100\", case=False) &\n",
        "                             ~etfs['Name'].str.contains(exclude_pattern, regex=True)]['Symbol'].tolist()\n",
        "    us_long_bond_etfs = etfs[etfs['Name'].str.contains(\"미국채.+10년\", case=False) &\n",
        "                             ~etfs['Name'].str.contains(exclude_pattern, regex=True)]['Symbol'].tolist()\n",
        "\n",
        "\n",
        "    # 조합할 ETF 선택 (예시: 채권은 첫 번째 채권 ETF, 미국 지수는 첫 번째 S&P500과 나스닥100)\n",
        "    # 실제 사용 시에는 비중 분배 로직이 더 필요할 수 있습니다.\n",
        "    combined_etf_symbols = []\n",
        "    if bond_weight > 0 and bond_etfs:\n",
        "        combined_etf_symbols.append(bond_etfs[0]) # 첫 번째 채권 ETF\n",
        "    if us_index_weight > 0 and us_sp500_etfs:\n",
        "         combined_etf_symbols.append(us_sp500_etfs[0]) # 첫 번째 S&P500 ETF\n",
        "    if us_index_weight > 0 and us_nasdaq100_etfs and len(combined_etf_symbols) < 2: # 미국 지수 ETF가 2개 필요할 경우\n",
        "        combined_etf_symbols.append(us_nasdaq100_etfs[0]) # 첫 번째 나스닥100 ETF\n",
        "    if us_index_weight > 0 and us_long_bond_etfs and len(combined_etf_symbols) < 3: # 미국 10년물 ETF가 필요할 경우\n",
        "        combined_etf_symbols.append(us_long_bond_etfs[0]) # 첫 번째 미국 10년물 ETF\n",
        "\n",
        "\n",
        "    # 조합할 ETF의 월초/월말 가격 데이터\n",
        "    # Check if combined_etf_symbols are in monthly_price columns\n",
        "    valid_combined_etf_symbols = [sym for sym in combined_etf_symbols if sym in monthly_price.columns]\n",
        "    monthly_price_combined_etfs = monthly_price[valid_combined_etf_symbols].copy()\n",
        "    month_end_combined_etfs = monthly_price_combined_etfs.resample('M').last()\n",
        "\n",
        "\n",
        "    for i in range(start_index, len(month_end_filtered)-1):\n",
        "        # 모멘텀 전략 종목 선정\n",
        "        mom = momentum_filtered.iloc[i]\n",
        "        top_symbols = mom.dropna().nlargest(top_n).index.tolist()\n",
        "\n",
        "        # 익월 월초~말일 수익률 계산\n",
        "        next_month_idx = month_end_filtered.index[i+1]\n",
        "\n",
        "        # 익월의 첫 거래일 가격 (매수 시점)\n",
        "        next_month_start = monthly_price.loc[monthly_price.index >= next_month_idx.replace(day=1)].iloc[0]\n",
        "        # 익월의 마지막 거래일 가격 (매도 시점)\n",
        "        next_month_end = monthly_price.resample('M').last().iloc[i+1]\n",
        "\n",
        "        # Ensure selected symbols are in next_month_start and next_month_end\n",
        "        valid_top_symbols = [sym for sym in top_symbols if sym in next_month_start.index and sym in next_month_end.index]\n",
        "        valid_combined_etf_symbols_month = [sym for sym in combined_etf_symbols if sym in next_month_start.index and sym in next_month_end.index]\n",
        "\n",
        "\n",
        "        # 모멘텀 전략 부분 수익률 계산\n",
        "        momentum_returns = (next_month_end[valid_top_symbols] - next_month_start[valid_top_symbols]) / next_month_start[valid_top_symbols]\n",
        "        avg_momentum_return = momentum_returns.mean() if not momentum_returns.empty else 0\n",
        "\n",
        "        # 조합할 ETF 부분 수익률 계산\n",
        "        combined_etf_returns = (next_month_end[valid_combined_etf_symbols_month] - next_month_start[valid_combined_etf_symbols_month]) / next_month_start[valid_combined_etf_symbols_month]\n",
        "\n",
        "        # 포트폴리오 전체 수익률 계산 (비중 적용)\n",
        "        portfolio_return = (avg_momentum_return * momentum_weight) + \\\n",
        "                           (combined_etf_returns[bond_etfs[0]].mean() * bond_weight if bond_weight > 0 and bond_etfs and bond_etfs[0] in combined_etf_returns.index else 0) + \\\n",
        "                           (combined_etf_returns[us_sp500_etfs[0]].mean() * us_index_weight/2 if us_index_weight > 0 and us_sp500_etfs and us_sp500_etfs[0] in combined_etf_returns.index else 0) + \\\n",
        "                           (combined_etf_returns[us_nasdaq100_etfs[0]].mean() * us_index_weight/2 if us_index_weight > 0 and us_nasdaq100_etfs and us_nasdaq100_etfs[0] in combined_etf_returns.index else 0) + \\\n",
        "                           (combined_etf_returns[us_long_bond_etfs[0]].mean() * us_index_weight/2 if us_index_weight > 0 and us_long_bond_etfs and us_long_bond_etfs[0] in combined_etf_returns.index else 0) # 미국 10년물 ETF 비중 추가\n",
        "\n",
        "\n",
        "        results.append({\n",
        "            'Month': next_month_idx.strftime('%Y-%m'),\n",
        "            'PortfolioReturn': round(portfolio_return, 4)\n",
        "        })\n",
        "\n",
        "    monthly_results = pd.DataFrame(results)\n",
        "    cumulative_returns = (1 + monthly_results['PortfolioReturn']).cumprod()\n",
        "\n",
        "    return monthly_results, cumulative_returns"
      ],
      "execution_count": 315,
      "outputs": []
    },
    {
      "cell_type": "code",
      "metadata": {
        "colab": {
          "base_uri": "https://localhost:8080/",
          "height": 780
        },
        "id": "404d1ec3",
        "outputId": "9a462eca-efb6-4109-9a8d-f04503832857"
      },
      "source": [
        "# 예시 1: 모멘텀 70%, 채권 30% 백테스트\n",
        "results_70_30_bond, cumulative_70_30_bond = combined_portfolio_backtest(\n",
        "    monthly_price, etfs, N_momentum=6, N_skip=2, top_n=3,\n",
        "    momentum_weight=0.7, bond_weight=0.3, us_index_weight=0\n",
        ")\n",
        "\n",
        "print(\"모멘텀 70%, 채권 30% 포트폴리오 누적 수익률:\")\n",
        "display(cumulative_70_30_bond.tail())\n",
        "\n",
        "# 예시 2: 모멘텀 70%, S&P500 15%, 나스닥100 15% 백테스트\n",
        "results_70_30_us_index, cumulative_70_30_us_index = combined_portfolio_backtest(\n",
        "    monthly_price, etfs, N_momentum=6, N_skip=2, top_n=3,\n",
        "    momentum_weight=0.7, bond_weight=0, us_index_weight=0.3 # us_index_weight 0.3으로 설정 (S&P500 0.15, 나스닥100 0.15)\n",
        ")\n",
        "\n",
        "print(\"\\n모멘텀 70%, S&P500 15%, 나스닥100 15% 포트폴리오 누적 수익률:\")\n",
        "display(cumulative_70_30_us_index.tail())\n",
        "\n",
        "# 예시 3: 모멘텀 70%, 채권 15%, S&P500 15% 백테스트\n",
        "results_70_15_15_bond_us_bond, cumulative_70_15_15_bond_us_bond = combined_portfolio_backtest(\n",
        "    monthly_price, etfs, N_momentum=6, N_skip=2, top_n=3,\n",
        "    momentum_weight=0.7, bond_weight=0.15, us_index_weight=0.15 # 채권 0.15, 미국 10년물 0.15\n",
        ")\n",
        "\n",
        "print(\"\\n모멘텀 70%, 채권 15%, 미국 10년물 15% 포트폴리오 누적 수익률:\")\n",
        "display(cumulative_70_15_15_bond_us_bond.tail())"
      ],
      "execution_count": 316,
      "outputs": [
        {
          "output_type": "stream",
          "name": "stdout",
          "text": [
            "모멘텀 70%, 채권 30% 포트폴리오 누적 수익률:\n"
          ]
        },
        {
          "output_type": "display_data",
          "data": {
            "text/plain": [
              "107    1.990418\n",
              "108    2.112032\n",
              "109    2.261142\n",
              "110    2.241922\n",
              "111    2.302006\n",
              "Name: PortfolioReturn, dtype: float64"
            ],
            "text/html": [
              "<div>\n",
              "<style scoped>\n",
              "    .dataframe tbody tr th:only-of-type {\n",
              "        vertical-align: middle;\n",
              "    }\n",
              "\n",
              "    .dataframe tbody tr th {\n",
              "        vertical-align: top;\n",
              "    }\n",
              "\n",
              "    .dataframe thead th {\n",
              "        text-align: right;\n",
              "    }\n",
              "</style>\n",
              "<table border=\"1\" class=\"dataframe\">\n",
              "  <thead>\n",
              "    <tr style=\"text-align: right;\">\n",
              "      <th></th>\n",
              "      <th>PortfolioReturn</th>\n",
              "    </tr>\n",
              "  </thead>\n",
              "  <tbody>\n",
              "    <tr>\n",
              "      <th>107</th>\n",
              "      <td>1.990418</td>\n",
              "    </tr>\n",
              "    <tr>\n",
              "      <th>108</th>\n",
              "      <td>2.112032</td>\n",
              "    </tr>\n",
              "    <tr>\n",
              "      <th>109</th>\n",
              "      <td>2.261142</td>\n",
              "    </tr>\n",
              "    <tr>\n",
              "      <th>110</th>\n",
              "      <td>2.241922</td>\n",
              "    </tr>\n",
              "    <tr>\n",
              "      <th>111</th>\n",
              "      <td>2.302006</td>\n",
              "    </tr>\n",
              "  </tbody>\n",
              "</table>\n",
              "</div><br><label><b>dtype:</b> float64</label>"
            ]
          },
          "metadata": {}
        },
        {
          "output_type": "stream",
          "name": "stdout",
          "text": [
            "\n",
            "모멘텀 70%, S&P500 15%, 나스닥100 15% 포트폴리오 누적 수익률:\n"
          ]
        },
        {
          "output_type": "display_data",
          "data": {
            "text/plain": [
              "107    1.632216\n",
              "108    1.749246\n",
              "109    1.908428\n",
              "110    1.904038\n",
              "111    1.980771\n",
              "Name: PortfolioReturn, dtype: float64"
            ],
            "text/html": [
              "<div>\n",
              "<style scoped>\n",
              "    .dataframe tbody tr th:only-of-type {\n",
              "        vertical-align: middle;\n",
              "    }\n",
              "\n",
              "    .dataframe tbody tr th {\n",
              "        vertical-align: top;\n",
              "    }\n",
              "\n",
              "    .dataframe thead th {\n",
              "        text-align: right;\n",
              "    }\n",
              "</style>\n",
              "<table border=\"1\" class=\"dataframe\">\n",
              "  <thead>\n",
              "    <tr style=\"text-align: right;\">\n",
              "      <th></th>\n",
              "      <th>PortfolioReturn</th>\n",
              "    </tr>\n",
              "  </thead>\n",
              "  <tbody>\n",
              "    <tr>\n",
              "      <th>107</th>\n",
              "      <td>1.632216</td>\n",
              "    </tr>\n",
              "    <tr>\n",
              "      <th>108</th>\n",
              "      <td>1.749246</td>\n",
              "    </tr>\n",
              "    <tr>\n",
              "      <th>109</th>\n",
              "      <td>1.908428</td>\n",
              "    </tr>\n",
              "    <tr>\n",
              "      <th>110</th>\n",
              "      <td>1.904038</td>\n",
              "    </tr>\n",
              "    <tr>\n",
              "      <th>111</th>\n",
              "      <td>1.980771</td>\n",
              "    </tr>\n",
              "  </tbody>\n",
              "</table>\n",
              "</div><br><label><b>dtype:</b> float64</label>"
            ]
          },
          "metadata": {}
        },
        {
          "output_type": "stream",
          "name": "stdout",
          "text": [
            "\n",
            "모멘텀 70%, 채권 15%, 미국 10년물 15% 포트폴리오 누적 수익률:\n"
          ]
        },
        {
          "output_type": "display_data",
          "data": {
            "text/plain": [
              "107    1.392457\n",
              "108    1.480599\n",
              "109    1.592384\n",
              "110    1.581556\n",
              "111    1.628212\n",
              "Name: PortfolioReturn, dtype: float64"
            ],
            "text/html": [
              "<div>\n",
              "<style scoped>\n",
              "    .dataframe tbody tr th:only-of-type {\n",
              "        vertical-align: middle;\n",
              "    }\n",
              "\n",
              "    .dataframe tbody tr th {\n",
              "        vertical-align: top;\n",
              "    }\n",
              "\n",
              "    .dataframe thead th {\n",
              "        text-align: right;\n",
              "    }\n",
              "</style>\n",
              "<table border=\"1\" class=\"dataframe\">\n",
              "  <thead>\n",
              "    <tr style=\"text-align: right;\">\n",
              "      <th></th>\n",
              "      <th>PortfolioReturn</th>\n",
              "    </tr>\n",
              "  </thead>\n",
              "  <tbody>\n",
              "    <tr>\n",
              "      <th>107</th>\n",
              "      <td>1.392457</td>\n",
              "    </tr>\n",
              "    <tr>\n",
              "      <th>108</th>\n",
              "      <td>1.480599</td>\n",
              "    </tr>\n",
              "    <tr>\n",
              "      <th>109</th>\n",
              "      <td>1.592384</td>\n",
              "    </tr>\n",
              "    <tr>\n",
              "      <th>110</th>\n",
              "      <td>1.581556</td>\n",
              "    </tr>\n",
              "    <tr>\n",
              "      <th>111</th>\n",
              "      <td>1.628212</td>\n",
              "    </tr>\n",
              "  </tbody>\n",
              "</table>\n",
              "</div><br><label><b>dtype:</b> float64</label>"
            ]
          },
          "metadata": {}
        }
      ]
    },
    {
      "cell_type": "code",
      "metadata": {
        "colab": {
          "base_uri": "https://localhost:8080/"
        },
        "id": "64951f7c",
        "outputId": "c92dae29-d0f6-4a6d-8c31-71b3e7058410"
      },
      "source": [
        "# 오리지널 모멘텀 전략 (예시로 사용했던 6-2 모멘텀)의 성과 지표 계산\n",
        "cagr_N_n, mdd_N_n, sharpe_N_n, calmar_N_n = performance_stats(cumulative_N_n)\n",
        "print(f\"Original Momentum (6-2, Top 3) - CAGR: {cagr_N_n}, MDD: {mdd_N_n}, Sharpe: {sharpe_N_n}, Calmar: {calmar_N_n}\")\n",
        "\n",
        "# 모멘텀 70%, 채권 30% 포트폴리오 성과 지표 계산\n",
        "cagr_70_30_bond, mdd_70_30_bond, sharpe_70_30_bond, calmar_70_30_bond = performance_stats(cumulative_70_30_bond)\n",
        "print(f\"Momentum 70%, Bond 30% - CAGR: {cagr_70_30_bond}, MDD: {mdd_70_30_bond}, Sharpe: {sharpe_70_30_bond}, Calmar: {calmar_70_30_bond}\")\n",
        "\n",
        "# 모멘텀 70%, S&P500 15%, 나스닥100 15% 포트폴리오 성과 지표 계산\n",
        "cagr_70_30_us_index, mdd_70_30_us_index, sharpe_70_30_us_index, calmar_70_30_us_index = performance_stats(cumulative_70_30_us_index)\n",
        "print(f\"Momentum 70%, S&P500 15%, Nasdaq 100 15% - CAGR: {cagr_70_30_us_index}, MDD: {mdd_70_30_us_index}, Sharpe: {sharpe_70_30_us_index}, Calmar: {calmar_70_30_us_index}\")\n",
        "\n",
        "# 모멘텀 70%, 채권 15%, 미국 10년물 15% 포트폴리오 성과 지표 계산\n",
        "cagr_70_15_15_bond_us_bond, mdd_70_15_15_bond_us_bond, sharpe_70_15_15_bond_us_bond, calmar_70_15_15_bond_us_bond = performance_stats(cumulative_70_15_15_bond_us_bond)\n",
        "print(f\"Momentum 70%, Bond 15%, US Long Bond 15% - CAGR: {cagr_70_15_15_bond_us_bond}, MDD: {mdd_70_15_15_bond_us_bond}, Sharpe: {sharpe_70_15_15_bond_us_bond}, Calmar: {calmar_70_15_15_bond_us_bond}\")"
      ],
      "execution_count": 317,
      "outputs": [
        {
          "output_type": "stream",
          "name": "stdout",
          "text": [
            "Original Momentum (6-2, Top 3) - CAGR: 0.1298, MDD: -0.2394, Sharpe: 0.7297, Calmar: 0.5422\n",
            "Momentum 70%, Bond 30% - CAGR: 0.0934, MDD: -0.1718, Sharpe: 0.7294, Calmar: 0.5438\n",
            "Momentum 70%, S&P500 15%, Nasdaq 100 15% - CAGR: 0.076, MDD: -0.1722, Sharpe: 0.8473, Calmar: 0.4411\n",
            "Momentum 70%, Bond 15%, US Long Bond 15% - CAGR: 0.0536, MDD: -0.1631, Sharpe: 0.7104, Calmar: 0.3287\n"
          ]
        }
      ]
    },
    {
      "cell_type": "code",
      "source": [
        "#df_portfolio['Names'].to_list()"
      ],
      "metadata": {
        "colab": {
          "base_uri": "https://localhost:8080/"
        },
        "id": "w2xebIxmOHD2",
        "outputId": "006fc9be-409a-44a5-9feb-7d35eede18ea"
      },
      "execution_count": null,
      "outputs": [
        {
          "output_type": "execute_result",
          "data": {
            "text/plain": [
              "[['TIGER K방산&우주', 'TIGER 200 중공업', 'TIGER 200 건설']]"
            ]
          },
          "metadata": {},
          "execution_count": 308
        }
      ]
    },
    {
      "cell_type": "code",
      "source": [
        "cumulative_N_n"
      ],
      "metadata": {
        "colab": {
          "base_uri": "https://localhost:8080/",
          "height": 89
        },
        "id": "J2YyBesOOMPK",
        "outputId": "d1c3621b-d5e5-4d44-d5b1-9fec8ba5f182"
      },
      "execution_count": null,
      "outputs": [
        {
          "output_type": "execute_result",
          "data": {
            "text/plain": [
              "  ReferenceMonth NextMonth                  Selected  \\\n",
              "0        2025-08   2025-09  [463250, 139230, 139220]   \n",
              "\n",
              "                                         Names                  Momentum  \n",
              "0  [TIGER K방산&우주, TIGER 200 중공업, TIGER 200 건설]  [1.5497, 1.0188, 0.7699]  "
            ],
            "text/html": [
              "\n",
              "  <div id=\"df-a22c47ee-ac79-4b0a-91b0-c5150f8ab80b\" class=\"colab-df-container\">\n",
              "    <div>\n",
              "<style scoped>\n",
              "    .dataframe tbody tr th:only-of-type {\n",
              "        vertical-align: middle;\n",
              "    }\n",
              "\n",
              "    .dataframe tbody tr th {\n",
              "        vertical-align: top;\n",
              "    }\n",
              "\n",
              "    .dataframe thead th {\n",
              "        text-align: right;\n",
              "    }\n",
              "</style>\n",
              "<table border=\"1\" class=\"dataframe\">\n",
              "  <thead>\n",
              "    <tr style=\"text-align: right;\">\n",
              "      <th></th>\n",
              "      <th>ReferenceMonth</th>\n",
              "      <th>NextMonth</th>\n",
              "      <th>Selected</th>\n",
              "      <th>Names</th>\n",
              "      <th>Momentum</th>\n",
              "    </tr>\n",
              "  </thead>\n",
              "  <tbody>\n",
              "    <tr>\n",
              "      <th>0</th>\n",
              "      <td>2025-08</td>\n",
              "      <td>2025-09</td>\n",
              "      <td>[463250, 139230, 139220]</td>\n",
              "      <td>[TIGER K방산&amp;우주, TIGER 200 중공업, TIGER 200 건설]</td>\n",
              "      <td>[1.5497, 1.0188, 0.7699]</td>\n",
              "    </tr>\n",
              "  </tbody>\n",
              "</table>\n",
              "</div>\n",
              "    <div class=\"colab-df-buttons\">\n",
              "\n",
              "  <div class=\"colab-df-container\">\n",
              "    <button class=\"colab-df-convert\" onclick=\"convertToInteractive('df-a22c47ee-ac79-4b0a-91b0-c5150f8ab80b')\"\n",
              "            title=\"Convert this dataframe to an interactive table.\"\n",
              "            style=\"display:none;\">\n",
              "\n",
              "  <svg xmlns=\"http://www.w3.org/2000/svg\" height=\"24px\" viewBox=\"0 -960 960 960\">\n",
              "    <path d=\"M120-120v-720h720v720H120Zm60-500h600v-160H180v160Zm220 220h160v-160H400v160Zm0 220h160v-160H400v160ZM180-400h160v-160H180v160Zm440 0h160v-160H620v160ZM180-180h160v-160H180v160Zm440 0h160v-160H620v160Z\"/>\n",
              "  </svg>\n",
              "    </button>\n",
              "\n",
              "  <style>\n",
              "    .colab-df-container {\n",
              "      display:flex;\n",
              "      gap: 12px;\n",
              "    }\n",
              "\n",
              "    .colab-df-convert {\n",
              "      background-color: #E8F0FE;\n",
              "      border: none;\n",
              "      border-radius: 50%;\n",
              "      cursor: pointer;\n",
              "      display: none;\n",
              "      fill: #1967D2;\n",
              "      height: 32px;\n",
              "      padding: 0 0 0 0;\n",
              "      width: 32px;\n",
              "    }\n",
              "\n",
              "    .colab-df-convert:hover {\n",
              "      background-color: #E2EBFA;\n",
              "      box-shadow: 0px 1px 2px rgba(60, 64, 67, 0.3), 0px 1px 3px 1px rgba(60, 64, 67, 0.15);\n",
              "      fill: #174EA6;\n",
              "    }\n",
              "\n",
              "    .colab-df-buttons div {\n",
              "      margin-bottom: 4px;\n",
              "    }\n",
              "\n",
              "    [theme=dark] .colab-df-convert {\n",
              "      background-color: #3B4455;\n",
              "      fill: #D2E3FC;\n",
              "    }\n",
              "\n",
              "    [theme=dark] .colab-df-convert:hover {\n",
              "      background-color: #434B5C;\n",
              "      box-shadow: 0px 1px 3px 1px rgba(0, 0, 0, 0.15);\n",
              "      filter: drop-shadow(0px 1px 2px rgba(0, 0, 0, 0.3));\n",
              "      fill: #FFFFFF;\n",
              "    }\n",
              "  </style>\n",
              "\n",
              "    <script>\n",
              "      const buttonEl =\n",
              "        document.querySelector('#df-a22c47ee-ac79-4b0a-91b0-c5150f8ab80b button.colab-df-convert');\n",
              "      buttonEl.style.display =\n",
              "        google.colab.kernel.accessAllowed ? 'block' : 'none';\n",
              "\n",
              "      async function convertToInteractive(key) {\n",
              "        const element = document.querySelector('#df-a22c47ee-ac79-4b0a-91b0-c5150f8ab80b');\n",
              "        const dataTable =\n",
              "          await google.colab.kernel.invokeFunction('convertToInteractive',\n",
              "                                                    [key], {});\n",
              "        if (!dataTable) return;\n",
              "\n",
              "        const docLinkHtml = 'Like what you see? Visit the ' +\n",
              "          '<a target=\"_blank\" href=https://colab.research.google.com/notebooks/data_table.ipynb>data table notebook</a>'\n",
              "          + ' to learn more about interactive tables.';\n",
              "        element.innerHTML = '';\n",
              "        dataTable['output_type'] = 'display_data';\n",
              "        await google.colab.output.renderOutput(dataTable, element);\n",
              "        const docLink = document.createElement('div');\n",
              "        docLink.innerHTML = docLinkHtml;\n",
              "        element.appendChild(docLink);\n",
              "      }\n",
              "    </script>\n",
              "  </div>\n",
              "\n",
              "\n",
              "  <div id=\"id_4a2bd3d3-6266-4440-9cc1-480f2ff2e9ce\">\n",
              "    <style>\n",
              "      .colab-df-generate {\n",
              "        background-color: #E8F0FE;\n",
              "        border: none;\n",
              "        border-radius: 50%;\n",
              "        cursor: pointer;\n",
              "        display: none;\n",
              "        fill: #1967D2;\n",
              "        height: 32px;\n",
              "        padding: 0 0 0 0;\n",
              "        width: 32px;\n",
              "      }\n",
              "\n",
              "      .colab-df-generate:hover {\n",
              "        background-color: #E2EBFA;\n",
              "        box-shadow: 0px 1px 2px rgba(60, 64, 67, 0.3), 0px 1px 3px 1px rgba(60, 64, 67, 0.15);\n",
              "        fill: #174EA6;\n",
              "      }\n",
              "\n",
              "      [theme=dark] .colab-df-generate {\n",
              "        background-color: #3B4455;\n",
              "        fill: #D2E3FC;\n",
              "      }\n",
              "\n",
              "      [theme=dark] .colab-df-generate:hover {\n",
              "        background-color: #434B5C;\n",
              "        box-shadow: 0px 1px 3px 1px rgba(0, 0, 0, 0.15);\n",
              "        filter: drop-shadow(0px 1px 2px rgba(0, 0, 0, 0.3));\n",
              "        fill: #FFFFFF;\n",
              "      }\n",
              "    </style>\n",
              "    <button class=\"colab-df-generate\" onclick=\"generateWithVariable('df_portfolio')\"\n",
              "            title=\"Generate code using this dataframe.\"\n",
              "            style=\"display:none;\">\n",
              "\n",
              "  <svg xmlns=\"http://www.w3.org/2000/svg\" height=\"24px\"viewBox=\"0 0 24 24\"\n",
              "       width=\"24px\">\n",
              "    <path d=\"M7,19H8.4L18.45,9,17,7.55,7,17.6ZM5,21V16.75L18.45,3.32a2,2,0,0,1,2.83,0l1.4,1.43a1.91,1.91,0,0,1,.58,1.4,1.91,1.91,0,0,1-.58,1.4L9.25,21ZM18.45,9,17,7.55Zm-12,3A5.31,5.31,0,0,0,4.9,8.1,5.31,5.31,0,0,0,1,6.5,5.31,5.31,0,0,0,4.9,4.9,5.31,5.31,0,0,0,6.5,1,5.31,5.31,0,0,0,8.1,4.9,5.31,5.31,0,0,0,12,6.5,5.46,5.46,0,0,0,6.5,12Z\"/>\n",
              "  </svg>\n",
              "    </button>\n",
              "    <script>\n",
              "      (() => {\n",
              "      const buttonEl =\n",
              "        document.querySelector('#id_4a2bd3d3-6266-4440-9cc1-480f2ff2e9ce button.colab-df-generate');\n",
              "      buttonEl.style.display =\n",
              "        google.colab.kernel.accessAllowed ? 'block' : 'none';\n",
              "\n",
              "      buttonEl.onclick = () => {\n",
              "        google.colab.notebook.generateWithVariable('df_portfolio');\n",
              "      }\n",
              "      })();\n",
              "    </script>\n",
              "  </div>\n",
              "\n",
              "    </div>\n",
              "  </div>\n"
            ],
            "application/vnd.google.colaboratory.intrinsic+json": {
              "type": "dataframe",
              "variable_name": "df_portfolio",
              "summary": "{\n  \"name\": \"df_portfolio\",\n  \"rows\": 1,\n  \"fields\": [\n    {\n      \"column\": \"ReferenceMonth\",\n      \"properties\": {\n        \"dtype\": \"object\",\n        \"num_unique_values\": 1,\n        \"samples\": [\n          \"2025-08\"\n        ],\n        \"semantic_type\": \"\",\n        \"description\": \"\"\n      }\n    },\n    {\n      \"column\": \"NextMonth\",\n      \"properties\": {\n        \"dtype\": \"object\",\n        \"num_unique_values\": 1,\n        \"samples\": [\n          \"2025-09\"\n        ],\n        \"semantic_type\": \"\",\n        \"description\": \"\"\n      }\n    },\n    {\n      \"column\": \"Selected\",\n      \"properties\": {\n        \"dtype\": \"object\",\n        \"semantic_type\": \"\",\n        \"description\": \"\"\n      }\n    },\n    {\n      \"column\": \"Names\",\n      \"properties\": {\n        \"dtype\": \"object\",\n        \"semantic_type\": \"\",\n        \"description\": \"\"\n      }\n    },\n    {\n      \"column\": \"Momentum\",\n      \"properties\": {\n        \"dtype\": \"object\",\n        \"semantic_type\": \"\",\n        \"description\": \"\"\n      }\n    }\n  ]\n}"
            }
          },
          "metadata": {},
          "execution_count": 309
        }
      ]
    }
  ]
}