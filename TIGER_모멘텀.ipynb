{
  "nbformat": 4,
  "nbformat_minor": 0,
  "metadata": {
    "colab": {
      "provenance": [],
      "authorship_tag": "ABX9TyMY1K5Ltwaa+5SDRAv28mdD",
      "include_colab_link": true
    },
    "kernelspec": {
      "name": "python3",
      "display_name": "Python 3"
    },
    "language_info": {
      "name": "python"
    }
  },
  "cells": [
    {
      "cell_type": "markdown",
      "metadata": {
        "id": "view-in-github",
        "colab_type": "text"
      },
      "source": [
        "<a href=\"https://colab.research.google.com/github/GermanM3/GermanM3/blob/master/TIGER_%EB%AA%A8%EB%A9%98%ED%85%80.ipynb\" target=\"_parent\"><img src=\"https://colab.research.google.com/assets/colab-badge.svg\" alt=\"Open In Colab\"/></a>"
      ]
    },
    {
      "cell_type": "code",
      "execution_count": 1,
      "metadata": {
        "id": "VCWJ3KFYmwGz",
        "colab": {
          "base_uri": "https://localhost:8080/"
        },
        "outputId": "db79257a-c7e8-43ea-b560-f4d6715fc7f0"
      },
      "outputs": [
        {
          "output_type": "stream",
          "name": "stdout",
          "text": [
            "Collecting finance-datareader\n",
            "  Downloading finance_datareader-0.9.96-py3-none-any.whl.metadata (12 kB)\n",
            "Requirement already satisfied: beautifulsoup4 in /usr/local/lib/python3.12/dist-packages (from finance-datareader) (4.13.5)\n",
            "Requirement already satisfied: lxml in /usr/local/lib/python3.12/dist-packages (from finance-datareader) (5.4.0)\n",
            "Requirement already satisfied: pandas>=1.1.0 in /usr/local/lib/python3.12/dist-packages (from finance-datareader) (2.2.2)\n",
            "Requirement already satisfied: plotly in /usr/local/lib/python3.12/dist-packages (from finance-datareader) (5.24.1)\n",
            "Collecting requests-file (from finance-datareader)\n",
            "  Downloading requests_file-2.1.0-py2.py3-none-any.whl.metadata (1.7 kB)\n",
            "Requirement already satisfied: requests>=2.3.0 in /usr/local/lib/python3.12/dist-packages (from finance-datareader) (2.32.4)\n",
            "Requirement already satisfied: tqdm in /usr/local/lib/python3.12/dist-packages (from finance-datareader) (4.67.1)\n",
            "Requirement already satisfied: numpy>=1.26.0 in /usr/local/lib/python3.12/dist-packages (from pandas>=1.1.0->finance-datareader) (2.0.2)\n",
            "Requirement already satisfied: python-dateutil>=2.8.2 in /usr/local/lib/python3.12/dist-packages (from pandas>=1.1.0->finance-datareader) (2.9.0.post0)\n",
            "Requirement already satisfied: pytz>=2020.1 in /usr/local/lib/python3.12/dist-packages (from pandas>=1.1.0->finance-datareader) (2025.2)\n",
            "Requirement already satisfied: tzdata>=2022.7 in /usr/local/lib/python3.12/dist-packages (from pandas>=1.1.0->finance-datareader) (2025.2)\n",
            "Requirement already satisfied: charset_normalizer<4,>=2 in /usr/local/lib/python3.12/dist-packages (from requests>=2.3.0->finance-datareader) (3.4.3)\n",
            "Requirement already satisfied: idna<4,>=2.5 in /usr/local/lib/python3.12/dist-packages (from requests>=2.3.0->finance-datareader) (3.10)\n",
            "Requirement already satisfied: urllib3<3,>=1.21.1 in /usr/local/lib/python3.12/dist-packages (from requests>=2.3.0->finance-datareader) (2.5.0)\n",
            "Requirement already satisfied: certifi>=2017.4.17 in /usr/local/lib/python3.12/dist-packages (from requests>=2.3.0->finance-datareader) (2025.8.3)\n",
            "Requirement already satisfied: soupsieve>1.2 in /usr/local/lib/python3.12/dist-packages (from beautifulsoup4->finance-datareader) (2.8)\n",
            "Requirement already satisfied: typing-extensions>=4.0.0 in /usr/local/lib/python3.12/dist-packages (from beautifulsoup4->finance-datareader) (4.15.0)\n",
            "Requirement already satisfied: tenacity>=6.2.0 in /usr/local/lib/python3.12/dist-packages (from plotly->finance-datareader) (8.5.0)\n",
            "Requirement already satisfied: packaging in /usr/local/lib/python3.12/dist-packages (from plotly->finance-datareader) (25.0)\n",
            "Requirement already satisfied: six>=1.5 in /usr/local/lib/python3.12/dist-packages (from python-dateutil>=2.8.2->pandas>=1.1.0->finance-datareader) (1.17.0)\n",
            "Downloading finance_datareader-0.9.96-py3-none-any.whl (48 kB)\n",
            "\u001b[2K   \u001b[90m━━━━━━━━━━━━━━━━━━━━━━━━━━━━━━━━━━━━━━━━\u001b[0m \u001b[32m48.2/48.2 kB\u001b[0m \u001b[31m3.5 MB/s\u001b[0m eta \u001b[36m0:00:00\u001b[0m\n",
            "\u001b[?25hDownloading requests_file-2.1.0-py2.py3-none-any.whl (4.2 kB)\n",
            "Installing collected packages: requests-file, finance-datareader\n",
            "Successfully installed finance-datareader-0.9.96 requests-file-2.1.0\n"
          ]
        }
      ],
      "source": [
        "pip install finance-datareader"
      ]
    },
    {
      "cell_type": "code",
      "source": [
        "import pandas as pd\n",
        "import FinanceDataReader as fdr\n",
        "import re\n",
        "import numpy as np\n",
        "import datetime\n",
        "import matplotlib.pyplot as plt\n",
        "import warnings\n",
        "warnings.filterwarnings('ignore')"
      ],
      "metadata": {
        "id": "wr2Ckbrjm5_v"
      },
      "execution_count": 2,
      "outputs": []
    },
    {
      "cell_type": "code",
      "source": [
        "etfs = fdr.StockListing('ETF/KR')"
      ],
      "metadata": {
        "id": "Mmtf95RfnCAe"
      },
      "execution_count": 3,
      "outputs": []
    },
    {
      "cell_type": "code",
      "source": [
        "rep_etfs = etfs[etfs['Name'].str.contains(\"TIGER\", case=False)]\n"
      ],
      "metadata": {
        "id": "oRC-eTDuoN3Y"
      },
      "execution_count": 4,
      "outputs": []
    },
    {
      "cell_type": "code",
      "source": [
        "import concurrent.futures\n",
        "\n",
        "# ==============================\n",
        "# 1. 기본 설정\n",
        "# ==============================\n",
        "symbols = rep_etfs['Symbol'].tolist()  # 대표 ETF 리스트\n",
        "\n",
        "start_date = (datetime.datetime.today() - pd.DateOffset(months=120)).strftime('%Y-%m-%d')\n",
        "end_date = datetime.datetime.today().strftime('%Y-%m-%d')\n",
        "\n",
        "# ==============================\n",
        "# 2. 데이터 조회 함수 (월초/월말 포함)\n",
        "# ==============================\n",
        "def fetch_monthly_data(sym, start, end):\n",
        "    try:\n",
        "        df = fdr.DataReader(sym, start=start, end=end)[['Open', 'Close']]\n",
        "        df_monthly = pd.DataFrame({\n",
        "            f'{sym}_Open': df['Open'].resample('MS').first(),  # 월초 시가\n",
        "            f'{sym}_Close': df['Close'].resample('ME').last()   # 월말 종가\n",
        "        })\n",
        "        return df_monthly\n",
        "    except Exception as e:\n",
        "        print(f\"{sym} 조회 실패: {e}\")\n",
        "        return None\n",
        "\n",
        "# ==============================\n",
        "# 3. 병렬 처리\n",
        "# ==============================\n",
        "all_data_list = []\n",
        "\n",
        "max_workers = 8  # CPU 코어 수나 네트워크 상황에 맞게 조절\n",
        "with concurrent.futures.ThreadPoolExecutor(max_workers=max_workers) as executor:\n",
        "    futures = {executor.submit(fetch_monthly_data, sym, start_date, end_date): sym for sym in symbols}\n",
        "    for future in concurrent.futures.as_completed(futures):\n",
        "        result = future.result()\n",
        "        if result is not None:\n",
        "            all_data_list.append(result)"
      ],
      "metadata": {
        "id": "buOVma_ypEzD",
        "colab": {
          "base_uri": "https://localhost:8080/"
        },
        "outputId": "5f035ff8-56e4-4c1c-e3c0-7072b175cfc3"
      },
      "execution_count": 5,
      "outputs": [
        {
          "output_type": "stream",
          "name": "stdout",
          "text": [
            "0043B0 조회 실패: 404 Client Error: Not Found for url: https://query2.finance.yahoo.com/v8/finance/chart/0043B0?period1=1443225600&period2=1758844800&interval=1d&includeAdjustedClose=true\n",
            "0052D0 조회 실패: 404 Client Error: Not Found for url: https://query2.finance.yahoo.com/v8/finance/chart/0052D0?period1=1443225600&period2=1758844800&interval=1d&includeAdjustedClose=true\n",
            "0072R0 조회 실패: 404 Client Error: Not Found for url: https://query2.finance.yahoo.com/v8/finance/chart/0072R0?period1=1443225600&period2=1758844800&interval=1d&includeAdjustedClose=true\n",
            "0094K0 조회 실패: 404 Client Error: Not Found for url: https://query2.finance.yahoo.com/v8/finance/chart/0094K0?period1=1443225600&period2=1758844800&interval=1d&includeAdjustedClose=true\n",
            "0047A0 조회 실패: 404 Client Error: Not Found for url: https://query2.finance.yahoo.com/v8/finance/chart/0047A0?period1=1443225600&period2=1758844800&interval=1d&includeAdjustedClose=true\n",
            "0060H0 조회 실패: 404 Client Error: Not Found for url: https://query2.finance.yahoo.com/v8/finance/chart/0060H0?period1=1443225600&period2=1758844800&interval=1d&includeAdjustedClose=true\n",
            "0053L0 조회 실패: 404 Client Error: Not Found for url: https://query2.finance.yahoo.com/v8/finance/chart/0053L0?period1=1443225600&period2=1758844800&interval=1d&includeAdjustedClose=true\n",
            "0091P0 조회 실패: 404 Client Error: Not Found for url: https://query2.finance.yahoo.com/v8/finance/chart/0091P0?period1=1443225600&period2=1758844800&interval=1d&includeAdjustedClose=true\n",
            "0025N0 조회 실패: 404 Client Error: Not Found for url: https://query2.finance.yahoo.com/v8/finance/chart/0025N0?period1=1443225600&period2=1758844800&interval=1d&includeAdjustedClose=true\n",
            "0001S0 조회 실패: 404 Client Error: Not Found for url: https://query2.finance.yahoo.com/v8/finance/chart/0001S0?period1=1443225600&period2=1758844800&interval=1d&includeAdjustedClose=true\n",
            "0008S0 조회 실패: 404 Client Error: Not Found for url: https://query2.finance.yahoo.com/v8/finance/chart/0008S0?period1=1443225600&period2=1758844800&interval=1d&includeAdjustedClose=true\n",
            "0102A0 조회 실패: 404 Client Error: Not Found for url: https://query2.finance.yahoo.com/v8/finance/chart/0102A0?period1=1443225600&period2=1758844800&interval=1d&includeAdjustedClose=true\n",
            "0046A0 조회 실패: 404 Client Error: Not Found for url: https://query2.finance.yahoo.com/v8/finance/chart/0046A0?period1=1443225600&period2=1758844800&interval=1d&includeAdjustedClose=true\n",
            "0086B0 조회 실패: 404 Client Error: Not Found for url: https://query2.finance.yahoo.com/v8/finance/chart/0086B0?period1=1443225600&period2=1758844800&interval=1d&includeAdjustedClose=true\n",
            "0067V0 조회 실패: 404 Client Error: Not Found for url: https://query2.finance.yahoo.com/v8/finance/chart/0067V0?period1=1443225600&period2=1758844800&interval=1d&includeAdjustedClose=true\n",
            "0000D0 조회 실패: 404 Client Error: Not Found for url: https://query2.finance.yahoo.com/v8/finance/chart/0000D0?period1=1443225600&period2=1758844800&interval=1d&includeAdjustedClose=true\n",
            "0104N0 조회 실패: 404 Client Error: Not Found for url: https://query2.finance.yahoo.com/v8/finance/chart/0104N0?period1=1443225600&period2=1758844800&interval=1d&includeAdjustedClose=true\n",
            "0104P0 조회 실패: 404 Client Error: Not Found for url: https://query2.finance.yahoo.com/v8/finance/chart/0104P0?period1=1443225600&period2=1758844800&interval=1d&includeAdjustedClose=true\n",
            "0067Y0 조회 실패: 404 Client Error: Not Found for url: https://query2.finance.yahoo.com/v8/finance/chart/0067Y0?period1=1443225600&period2=1758844800&interval=1d&includeAdjustedClose=true\n",
            "0086C0 조회 실패: 404 Client Error: Not Found for url: https://query2.finance.yahoo.com/v8/finance/chart/0086C0?period1=1443225600&period2=1758844800&interval=1d&includeAdjustedClose=true\n",
            "0015K0 조회 실패: 404 Client Error: Not Found for url: https://query2.finance.yahoo.com/v8/finance/chart/0015K0?period1=1443225600&period2=1758844800&interval=1d&includeAdjustedClose=true\n"
          ]
        }
      ]
    },
    {
      "cell_type": "code",
      "source": [
        "monthly_merged = pd.concat(all_data_list, axis=1)\n",
        "\n",
        "# 월초 시가 / 월말 종가 분리\n",
        "monthly_open = monthly_merged.filter(like='_Open').rename(columns=lambda x: x.replace('_Open',''))\n",
        "monthly_close = monthly_merged.filter(like='_Close').rename(columns=lambda x: x.replace('_Close',''))\n",
        "\n",
        "# 인덱스 변환 및 검증\n",
        "monthly_open.index = pd.to_datetime(monthly_open.index, errors='coerce')\n",
        "monthly_close.index = pd.to_datetime(monthly_close.index, errors='coerce')\n",
        "assert monthly_open.index.equals(monthly_close.index), \"Index mismatch between open and close\""
      ],
      "metadata": {
        "id": "6_noUGpHpdPQ"
      },
      "execution_count": 6,
      "outputs": []
    },
    {
      "cell_type": "code",
      "source": [
        "# Combine monthly_open and monthly_close into monthly_price using combine\n",
        "# We'll use the first non-NaN value at each position.\n",
        "monthly_price = monthly_open.combine_first(monthly_close)"
      ],
      "metadata": {
        "id": "_u94dzGbntBi"
      },
      "execution_count": 13,
      "outputs": []
    },
    {
      "cell_type": "code",
      "source": [
        "def momentum_backtest(monthly_price, etfs=None, use_filtered=False,\n",
        "                      N_momentum=12, top_n=3):\n",
        "    \"\"\"\n",
        "    monthly_price : DataFrame (컬럼=Symbol, 값=가격)\n",
        "    etfs : DataFrame (Symbol, Name 포함)\n",
        "    use_filtered : True면 레버리지/인버스/커버드콜/혼합 종목 제외\n",
        "    \"\"\"\n",
        "\n",
        "    # ✅ 필터링 옵션\n",
        "    if use_filtered and etfs is not None:\n",
        "        exclude_pattern = \"레버리지|인버스|2X|커버드콜|혼합\"\n",
        "        exclude_symbols = etfs[etfs['Name'].str.contains(exclude_pattern, regex=True)]['Symbol'].tolist()\n",
        "        monthly_price = monthly_price.drop(columns=[c for c in monthly_price.columns if c in exclude_symbols])\n",
        "\n",
        "    monthly_price = monthly_price.sort_index()\n",
        "\n",
        "    # 월말 종가만 추출\n",
        "    month_end = monthly_price.resample('M').last()\n",
        "\n",
        "    # N개월 모멘텀 계산\n",
        "    momentum = month_end.pct_change(N_momentum)\n",
        "\n",
        "    results = []\n",
        "\n",
        "    for i in range(N_momentum, len(month_end)-1):\n",
        "        mom = momentum.iloc[i]\n",
        "        top_symbols = mom.nlargest(top_n).index\n",
        "        top_scores = mom[top_symbols]\n",
        "\n",
        "        # 익월 월초~말일 수익률 계산\n",
        "        next_month_idx = month_end.index[i+1]\n",
        "        next_month_start = monthly_price.loc[monthly_price.index >= next_month_idx.replace(day=1)].iloc[0]\n",
        "        next_month_end = month_end.iloc[i+1]\n",
        "\n",
        "        returns = (next_month_end[top_symbols] - next_month_start[top_symbols]) / next_month_start[top_symbols]\n",
        "        portfolio_return = returns.mean()\n",
        "\n",
        "        results.append({\n",
        "            'Month': next_month_idx.strftime('%Y-%m'),\n",
        "            'Selected': list(top_symbols),\n",
        "            'Momentum': list(top_scores.round(4)),\n",
        "            'NextMonthReturn': list(returns.round(4)),\n",
        "            'PortfolioReturn': round(portfolio_return, 4)\n",
        "        })\n",
        "\n",
        "    monthly_results = pd.DataFrame(results)\n",
        "    cumulative_returns = (1 + monthly_results['PortfolioReturn']).cumprod()\n",
        "\n",
        "    return monthly_results, cumulative_returns\n"
      ],
      "metadata": {
        "id": "-GbBCum_BLsf"
      },
      "execution_count": 7,
      "outputs": []
    },
    {
      "cell_type": "code",
      "source": [
        "# (1) 전체 ETF\n",
        "monthly_results_all, cum_ret_all = momentum_backtest(\n",
        "    monthly_price=monthly_price,\n",
        "    etfs=etfs,\n",
        "    use_filtered=False,   # 필터 안 함\n",
        "    N_momentum=8,\n",
        "    top_n=6\n",
        ")\n",
        "\n",
        "# (2) 필터된 ETF만\n",
        "\"\"\"\n",
        "monthly_results_filtered, cum_ret_filtered = momentum_backtest(\n",
        "    monthly_price=monthly_price,\n",
        "    etfs=etfs,\n",
        "    use_filtered=True,    # 필터 적용\n",
        "    N_momentum=6,\n",
        "    top_n=5\n",
        ")\n",
        "\"\"\"\n",
        "# 📊 누적 수익률 비교 시각화\n",
        "plt.figure(figsize=(10,6))\n",
        "cum_ret_all.plot(label=\"All ETFs\")\n",
        "#cum_ret_filtered.plot(label=\"Filtered ETFs\")\n",
        "plt.title(\"Momentum Cumulative Return (All)\")\n",
        "plt.ylabel(\"Cumulative Return\")\n",
        "plt.legend()\n",
        "plt.show()"
      ],
      "metadata": {
        "id": "n4fkm4E1BLvS",
        "colab": {
          "base_uri": "https://localhost:8080/",
          "height": 545
        },
        "outputId": "953e59e6-f436-44f4-d6c2-03c26d45d166"
      },
      "execution_count": 14,
      "outputs": [
        {
          "output_type": "display_data",
          "data": {
            "text/plain": [
              "<Figure size 1000x600 with 1 Axes>"
            ],
            "image/png": "[encoded data removed]"
          },
          "metadata": {}
        }
      ]
    },
    {
      "cell_type": "code",
      "metadata": {
        "id": "z_k54z8xXW0r"
      },
      "source": [],
      "execution_count": 11,
      "outputs": []
    },
    {
      "cell_type": "code",
      "source": [
        "from itertools import product\n",
        "\n",
        "def momentum_sweep_N_topn_top3_bottom3(monthly_price, etfs=None, use_filtered=False,\n",
        "                                       N_list=range(3,13), top_n_list=range(3,8)):\n",
        "    sweep_results = []\n",
        "    cumulative_dict = {}\n",
        "\n",
        "    # 모든 조합 백테스트\n",
        "    for N, top_n in product(N_list, top_n_list):\n",
        "        monthly_results, cum_ret = momentum_backtest(\n",
        "            monthly_price=monthly_price,\n",
        "            etfs=etfs,\n",
        "            use_filtered=use_filtered,\n",
        "            N_momentum=N,\n",
        "            top_n=top_n\n",
        "        )\n",
        "        cumulative_dict[(N, top_n)] = cum_ret\n",
        "        final_cum_ret = cum_ret.iloc[-1]\n",
        "        sweep_results.append({'MomentumPeriod': N, 'TopN': top_n, 'FinalCumulativeReturn': final_cum_ret})\n",
        "\n",
        "    sweep_results = pd.DataFrame(sweep_results)\n",
        "\n",
        "    # 상위 3개, 하위 3개 조합 선택\n",
        "    top3 = sweep_results.nlargest(3, 'FinalCumulativeReturn')\n",
        "    bottom3 = sweep_results.nsmallest(3, 'FinalCumulativeReturn')\n",
        "    selected_keys = list(top3[['MomentumPeriod','TopN']].itertuples(index=False, name=None)) + \\\n",
        "                    list(bottom3[['MomentumPeriod','TopN']].itertuples(index=False, name=None))\n",
        "\n",
        "    # 그래프\n",
        "    plt.figure(figsize=(12,6))\n",
        "    for key in selected_keys:\n",
        "        cum_ret = cumulative_dict[key]\n",
        "        label = f'N={key[0]}, top_n={key[1]}'\n",
        "        cum_ret.plot(label=label)\n",
        "    plt.title('Top 3 & Bottom 3 Momentum Period & TopN Combinations')\n",
        "    plt.ylabel('Cumulative Return')\n",
        "    plt.legend()\n",
        "    plt.show()\n",
        "\n",
        "    return sweep_results, cumulative_dict"
      ],
      "metadata": {
        "id": "E8x16BThBLyB"
      },
      "execution_count": null,
      "outputs": []
    },
    {
      "cell_type": "code",
      "source": [
        "# 전체 ETF 대상 스윕\n",
        "results_all, cum_dict_all = momentum_sweep_N_topn_top3_bottom3( monthly_price=monthly_price, etfs=etfs, use_filtered=False)\n",
        "\n",
        "# 필터된 ETF 대상 스윕\n",
        "results_filtered, cum_dict_filtered = momentum_sweep_N_topn_top3_bottom3(monthly_price=monthly_price,etfs=etfs, use_filtered=True)"
      ],
      "metadata": {
        "id": "vs-KJVcvKIyC",
        "collapsed": true
      },
      "execution_count": null,
      "outputs": []
    },
    {
      "cell_type": "code",
      "source": [
        "# @title 검증용\n",
        "def momentum_verification_table(monthly_price, N_momentum=12):\n",
        "    \"\"\"\n",
        "    월말 종가 기준 N개월 모멘텀 점수와 익월 수익률 계산\n",
        "    계산이 올바른지 검증할 수 있는 테이블 생성\n",
        "\n",
        "    Parameters\n",
        "    ----------\n",
        "    monthly_price : pd.DataFrame\n",
        "        날짜 인덱스, 종목코드 칼럼, 종가 데이터\n",
        "    N_momentum : int\n",
        "        모멘텀 계산 기간(개월)\n",
        "\n",
        "    Returns\n",
        "    -------\n",
        "    verification_df : pd.DataFrame\n",
        "        Month, Symbol, MomentumScore, NextMonthReturn, MomentumRank\n",
        "    \"\"\"\n",
        "    monthly_price = monthly_price.sort_index()\n",
        "    month_end = monthly_price.resample('M').last()\n",
        "    momentum = month_end.pct_change(N_momentum)\n",
        "\n",
        "    records = []\n",
        "\n",
        "    for i in range(N_momentum, len(month_end)-1):\n",
        "        mom = momentum.iloc[i]\n",
        "        next_month_idx = month_end.index[i+1]\n",
        "        next_month_start = monthly_price.loc[monthly_price.index >= next_month_idx.replace(day=1)].iloc[0]\n",
        "        next_month_end = month_end.iloc[i+1]\n",
        "        next_month_ret = (next_month_end - next_month_start) / next_month_start\n",
        "\n",
        "        # 모멘텀 순위\n",
        "        mom_rank = mom.rank(ascending=False)\n",
        "\n",
        "        for symbol in monthly_price.columns:\n",
        "            records.append({\n",
        "                'Month': next_month_idx.strftime('%Y-%m'),\n",
        "                'Symbol': symbol,\n",
        "                'MomentumScore': mom[symbol],\n",
        "                'MomentumRank': mom_rank[symbol],\n",
        "                'NextMonthReturn': next_month_ret[symbol]\n",
        "            })\n",
        "\n",
        "    verification_df = pd.DataFrame(records)\n",
        "\n",
        "    return verification_df\n",
        "\n",
        "verification_df = momentum_verification_table(monthly_price, N_momentum=8)\n"
      ],
      "metadata": {
        "cellView": "form",
        "id": "DgkcyfFyLSKR"
      },
      "execution_count": null,
      "outputs": []
    },
    {
      "cell_type": "code",
      "source": [
        "import pandas as pd\n",
        "\n",
        "def get_next_month_portfolio_with_names(monthly_price, etfs, reference_date,\n",
        "                                        N_momentum=12, top_n=3, use_filtered=False):\n",
        "    \"\"\"\n",
        "    조회 기준 월말 모멘텀으로 익월 포트폴리오 종목(Symbol + Name) 반환\n",
        "    (필터 옵션 포함)\n",
        "\n",
        "    Parameters\n",
        "    ----------\n",
        "    monthly_price : pd.DataFrame\n",
        "        날짜 인덱스, 종목코드 칼럼, 종가 데이터\n",
        "    etfs : pd.DataFrame\n",
        "        Symbol, Name 컬럼 포함 ETF 정보\n",
        "    reference_date : str or pd.Timestamp\n",
        "        조회 기준 날짜 (예: '2025-08-31')\n",
        "    N_momentum : int\n",
        "        모멘텀 계산 기간(개월)\n",
        "    top_n : int\n",
        "        상위 N개 종목 선정\n",
        "    use_filtered : bool\n",
        "        True면 레버리지/인버스/커버드콜/혼합 종목 제외\n",
        "\n",
        "    Returns\n",
        "    -------\n",
        "    pd.DataFrame\n",
        "        Symbol, Name 포함 익월 포트폴리오 종목\n",
        "    \"\"\"\n",
        "    monthly_price = monthly_price.sort_index()\n",
        "\n",
        "    # ✅ 필터링 적용\n",
        "    if use_filtered:\n",
        "        exclude_pattern = \"레버리지|인버스|2X|커버드콜|혼합\"\n",
        "        exclude_symbols = etfs[etfs['Name'].str.contains(exclude_pattern, regex=True)]['Symbol'].tolist()\n",
        "        monthly_price = monthly_price.drop(columns=[c for c in monthly_price.columns if c in exclude_symbols])\n",
        "\n",
        "    month_end = monthly_price.resample('M').last()\n",
        "\n",
        "    reference_date = pd.to_datetime(reference_date)\n",
        "    month_key = month_end.index[month_end.index <= reference_date][-1]\n",
        "\n",
        "    # 모멘텀 계산\n",
        "    if month_end.index.get_loc(month_key) < N_momentum:\n",
        "        raise ValueError(f\"N_momentum={N_momentum}개월 모멘텀 계산 불가 (데이터 부족).\")\n",
        "\n",
        "    momentum = month_end.pct_change(N_momentum)\n",
        "    mom = momentum.loc[month_key]\n",
        "\n",
        "    # 상위 N개 종목 선정\n",
        "    top_symbols = mom.nlargest(top_n).index.tolist()\n",
        "\n",
        "    # Symbol → Name 매핑 (누락 방지용 reindex 사용)\n",
        "    top_df = etfs.set_index('Symbol').reindex(top_symbols).reset_index()\n",
        "\n",
        "    return top_df"
      ],
      "metadata": {
        "id": "EkR8uyFaP-bK"
      },
      "execution_count": null,
      "outputs": []
    },
    {
      "cell_type": "code",
      "source": [
        "# 전체 ETF 기준\n",
        "top_portfolio_all = get_next_month_portfolio_with_names(\n",
        "    monthly_price=monthly_price,\n",
        "    etfs=etfs,\n",
        "    reference_date=\"2025-08-31\",\n",
        "    N_momentum=8,\n",
        "    top_n=6,\n",
        "    use_filtered=False\n",
        ")"
      ],
      "metadata": {
        "id": "f0oRKcexSQR7"
      },
      "execution_count": null,
      "outputs": []
    },
    {
      "cell_type": "code",
      "source": [
        "# 필터 적용 (롱온리 중심)\n",
        "top_portfolio_filtered = get_next_month_portfolio_with_names(\n",
        "    monthly_price=monthly_price,\n",
        "    etfs=etfs,\n",
        "    reference_date=\"2025-08-31\",\n",
        "    N_momentum=11,\n",
        "    top_n=5,\n",
        "    use_filtered=True)"
      ],
      "metadata": {
        "id": "FVMfmGCS9nra"
      },
      "execution_count": null,
      "outputs": []
    },
    {
      "cell_type": "code",
      "source": [
        "top_portfolio_filtered"
      ],
      "metadata": {
        "id": "bTwINGUi-oh-"
      },
      "execution_count": null,
      "outputs": []
    },
    {
      "cell_type": "code",
      "source": [],
      "metadata": {
        "id": "S9q_oanC_h01"
      },
      "execution_count": null,
      "outputs": []
    }
  ]
}