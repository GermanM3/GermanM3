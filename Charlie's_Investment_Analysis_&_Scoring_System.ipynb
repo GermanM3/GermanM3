{
  "nbformat": 4,
  "nbformat_minor": 0,
  "metadata": {
    "colab": {
      "provenance": [],
      "authorship_tag": "ABX9TyOYQg/3FqyCPkS45OqLtAWx",
      "include_colab_link": true
    },
    "kernelspec": {
      "name": "python3",
      "display_name": "Python 3"
    },
    "language_info": {
      "name": "python"
    }
  },
  "cells": [
    {
      "cell_type": "markdown",
      "metadata": {
        "id": "view-in-github",
        "colab_type": "text"
      },
      "source": [
        "<a href=\"https://colab.research.google.com/github/GermanM3/GermanM3/blob/master/Charlie's_Investment_Analysis_%26_Scoring_System.ipynb\" target=\"_parent\"><img src=\"https://colab.research.google.com/assets/colab-badge.svg\" alt=\"Open In Colab\"/></a>"
      ]
    },
    {
      "cell_type": "code",
      "source": [
        "pip install pykrx finance-datareader ta"
      ],
      "metadata": {
        "id": "gIGE-BdqH1ZD"
      },
      "execution_count": null,
      "outputs": []
    },
    {
      "cell_type": "code",
      "source": [
        "import pandas as pd\n",
        "import numpy as np\n",
        "from datetime import datetime, timedelta\n",
        "import FinanceDataReader as fdr\n",
        "from pykrx import stock\n",
        "\n",
        "def analyze_charlies_method_with_scoring(ticker: str, years: int = 10, target_market_median_yield: float = 0.073):\n",
        "    \"\"\"\n",
        "    찰리의 가치투자 5가지 판단 도구를 분석하고 점수화하는 함수\n",
        "\n",
        "    Args:\n",
        "        ticker (str): 종목 코드.\n",
        "        years (int): ROE 및 수익률 분석 기간 (단위: 년).\n",
        "        target_market_median_yield (float): 시장의 역사적 수익률 중위수.\n",
        "\n",
        "    Returns:\n",
        "        dict: 5가지 도구 분석 결과, 점수, 총점.\n",
        "    \"\"\"\n",
        "    try:\n",
        "        # 종목 코드와 기업명 가져오기\n",
        "        stock_name = stock.get_market_ticker_name(ticker)\n",
        "\n",
        "        end_date = datetime.today()\n",
        "        start_date_fund_years = end_date.year - years\n",
        "\n",
        "        # --- 펀더멘털 데이터 가져오기 (최적화) ---\n",
        "        annual_fund_list = []\n",
        "        for year in range(start_date_fund_years, end_date.year + 1):\n",
        "            end_date_str_temp = f'{year}1231'\n",
        "            start_date_str_temp = (datetime.strptime(end_date_str_temp, \"%Y%m%d\") - timedelta(days=15)).strftime(\"%Y%m%d\")\n",
        "\n",
        "            df_temp = stock.get_market_fundamental_by_date(start_date_str_temp, end_date_str_temp, ticker)\n",
        "            if not df_temp.empty:\n",
        "                annual_fund_list.append(df_temp.tail(1))\n",
        "\n",
        "        if not annual_fund_list:\n",
        "            return {\"error\": \"펀더멘털 데이터가 충분하지 않습니다.\"}\n",
        "\n",
        "        df_annual_fund = pd.concat(annual_fund_list)\n",
        "        df_annual_fund.index = df_annual_fund.index.year\n",
        "\n",
        "        # --- 가격 데이터 가져오기 ---\n",
        "        start_date_price = (end_date - timedelta(days=365*years+30)).strftime(\"%Y%m%d\")\n",
        "        df_price = fdr.DataReader(ticker, start_date_price)\n",
        "\n",
        "        if df_price.empty:\n",
        "            return {\"error\": \"주가 데이터를 가져오는 데 실패했습니다.\"}\n",
        "\n",
        "        # === 2. 좋은 기업 선별 도구 분석 및 점수화 ===\n",
        "        df_annual_fund['ROE'] = (df_annual_fund['EPS'] / df_annual_fund['BPS']) * 100\n",
        "        historical_roe = df_annual_fund['ROE'].dropna().values\n",
        "\n",
        "        if len(historical_roe) < 5:\n",
        "            return {\"error\": \"ROE 데이터가 충분하지 않습니다. (최소 5년)\"}\n",
        "\n",
        "        # ① ROE Median\n",
        "        roe_median = np.median(historical_roe)\n",
        "        roe_median_ok = roe_median >= 15\n",
        "        roe_median_score = min(5, (roe_median / 15) * 5) + max(0, roe_median - 15)\n",
        "\n",
        "        # ② ROE Adjusted CV\n",
        "        q75 = np.percentile(historical_roe, 75)\n",
        "        q25 = np.percentile(historical_roe, 25)\n",
        "        roe_spread = q75 - q25\n",
        "        roe_adjusted_cv = roe_median / roe_spread if roe_spread != 0 else np.inf\n",
        "        roe_adjusted_cv_ok = roe_adjusted_cv >= 1\n",
        "        roe_adjusted_cv_score = min(5, (roe_adjusted_cv / 1.0) * 5) + max(0, (roe_adjusted_cv - 1.0) * 5)\n",
        "\n",
        "        # ③ Yield Median\n",
        "        df_price['annual_return'] = df_price['Close'].pct_change(250)\n",
        "        df_annual_returns = df_price.groupby(df_price.index.year).tail(1)['annual_return'].dropna()\n",
        "        historical_yield_median = df_annual_returns.median()\n",
        "        yield_median_ok = historical_yield_median > target_market_median_yield\n",
        "        yield_median_score = max(0, (historical_yield_median - target_market_median_yield) * 100)\n",
        "\n",
        "        # === 3. 좋은 주식 인식 도구 분석 및 점수화 ===\n",
        "\n",
        "        # ④ PBR Location\n",
        "        df_pbr_data = df_price.copy()\n",
        "        df_pbr_data['year'] = df_pbr_data.index.year\n",
        "        df_pbr_data = df_pbr_data.merge(df_annual_fund[['BPS']], left_on='year', right_index=True, how='left')\n",
        "        df_pbr_data['BPS'] = df_pbr_data['BPS'].ffill()\n",
        "        df_pbr_data['PBR'] = df_pbr_data['Close'] / df_pbr_data['BPS']\n",
        "        historical_pbr = df_pbr_data['PBR'].dropna()\n",
        "\n",
        "        if historical_pbr.empty:\n",
        "            return {\"error\": \"PBR 데이터를 계산할 수 없습니다.\"}\n",
        "\n",
        "        current_pbr = historical_pbr.iloc[-1]\n",
        "        pbr_location_rank = (historical_pbr.sort_values().to_list().index(current_pbr) / len(historical_pbr))\n",
        "        pbr_location_ok = pbr_location_rank <= 0.25\n",
        "        pbr_location_score = (1 - pbr_location_rank) * 10\n",
        "\n",
        "        # ⑤ Value Trap\n",
        "        df_price['EMA_10W'] = df_price['Close'].ewm(span=50, adjust=False).mean()\n",
        "        df_price['EMA_40W'] = df_price['Close'].ewm(span=200, adjust=False).mean()\n",
        "        current_value_trap_ratio = df_price['EMA_10W'].iloc[-1] / df_price['EMA_40W'].iloc[-1]\n",
        "        value_trap_ok = current_value_trap_ratio >= 1\n",
        "        value_trap_score = 10 if value_trap_ok else 0\n",
        "\n",
        "        # === 최종 결과 취합 및 총점 계산 ===\n",
        "        total_score = (roe_median_score + roe_adjusted_cv_score +\n",
        "                       yield_median_score + pbr_location_score + value_trap_score)\n",
        "\n",
        "        return {\n",
        "            \"종목코드\": ticker,\n",
        "            \"종목명\": stock_name,\n",
        "            \"ROE_Median\": f\"{roe_median:.2f}%\",\n",
        "            \"ROE_Median_OK\": roe_median_ok,\n",
        "            \"ROE_Median_Score\": f\"{roe_median_score:.2f}\",\n",
        "            \"ROE_Adj_CV\": f\"{roe_adjusted_cv:.2f}\",\n",
        "            \"ROE_Adj_CV_OK\": roe_adjusted_cv_ok,\n",
        "            \"ROE_Adj_CV_Score\": f\"{roe_adjusted_cv_score:.2f}\",\n",
        "            \"Yield_Median\": f\"{historical_yield_median*100:.2f}%\",\n",
        "            \"Yield_Median_OK\": yield_median_ok,\n",
        "            \"Yield_Median_Score\": f\"{yield_median_score:.2f}\",\n",
        "            \"PBR_Location_Rank\": f\"{pbr_location_rank*100:.2f}%\",\n",
        "            \"PBR_Location_OK\": pbr_location_ok,\n",
        "            \"PBR_Location_Score\": f\"{pbr_location_score:.2f}\",\n",
        "            \"Value_Trap_Ratio\": f\"{current_value_trap_ratio:.2f}\",\n",
        "            \"Value_Trap_OK\": value_trap_ok,\n",
        "            \"Value_Trap_Score\": f\"{value_trap_score:.2f}\",\n",
        "            \"Total_Score\": f\"{total_score:.2f}\",\n",
        "            \"총평\": f\"좋은 기업: {roe_median_ok and roe_adjusted_cv_ok and yield_median_ok}, \"\n",
        "                  f\"좋은 주식: {pbr_location_ok and value_trap_ok}\"\n",
        "        }\n",
        "\n",
        "    except Exception as e:\n",
        "        return {\"종목코드\": ticker, \"error\": str(e)}"
      ],
      "metadata": {
        "id": "4Pq1gxsTH4Jr"
      },
      "execution_count": 16,
      "outputs": []
    },
    {
      "cell_type": "code",
      "source": [
        "# === 예시 실행 ===\n",
        "if __name__ == \"__main__\":\n",
        "    sample_ticker = \"138040\"\n",
        "    analysis_result = analyze_charlies_method_with_scoring(sample_ticker)\n",
        "\n",
        "    if \"error\" in analysis_result:\n",
        "        print(f\"분석 실패: {analysis_result['error']}\")\n",
        "    else:\n",
        "        print(f\"[{analysis_result['종목코드']}] {analysis_result['종목명']} 찰리의 가치투자 분석 결과\")\n",
        "        for key, value in analysis_result.items():\n",
        "            print(f\"- {key}: {value}\")\n"
      ],
      "metadata": {
        "colab": {
          "base_uri": "https://localhost:8080/"
        },
        "id": "68aAPsOEKJKA",
        "outputId": "5f0ec8d1-3fa0-404d-bf96-01f102d1d57a"
      },
      "execution_count": 35,
      "outputs": [
        {
          "output_type": "stream",
          "name": "stdout",
          "text": [
            "[138040] 메리츠금융지주 찰리의 가치투자 분석 결과\n",
            "- 종목코드: 138040\n",
            "- 종목명: 메리츠금융지주\n",
            "- ROE_Median: 14.50%\n",
            "- ROE_Median_OK: False\n",
            "- ROE_Median_Score: 4.83\n",
            "- ROE_Adj_CV: 2.42\n",
            "- ROE_Adj_CV_OK: True\n",
            "- ROE_Adj_CV_Score: 12.10\n",
            "- Yield_Median: 19.18%\n",
            "- Yield_Median_OK: True\n",
            "- Yield_Median_Score: 11.88\n",
            "- PBR_Location_Rank: 97.37%\n",
            "- PBR_Location_OK: False\n",
            "- PBR_Location_Score: 0.26\n",
            "- Value_Trap_Ratio: 1.05\n",
            "- Value_Trap_OK: True\n",
            "- Value_Trap_Score: 10.00\n",
            "- Total_Score: 39.08\n",
            "- 총평: 좋은 기업: False, 좋은 주식: False\n"
          ]
        }
      ]
    },
    {
      "cell_type": "code",
      "source": [],
      "metadata": {
        "id": "RleB-IKrJfts"
      },
      "execution_count": null,
      "outputs": []
    }
  ]
}